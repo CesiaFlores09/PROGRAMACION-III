{
  "nbformat": 4,
  "nbformat_minor": 0,
  "metadata": {
    "colab": {
      "name": "Tarea.ipynb",
      "provenance": [],
      "collapsed_sections": [],
      "authorship_tag": "ABX9TyOrnvJQPoDzyrOEkkyvcydu",
      "include_colab_link": true
    },
    "kernelspec": {
      "name": "python3",
      "display_name": "Python 3"
    },
    "language_info": {
      "name": "python"
    }
  },
  "cells": [
    {
      "cell_type": "markdown",
      "metadata": {
        "id": "view-in-github",
        "colab_type": "text"
      },
      "source": [
        "<a href=\"https://colab.research.google.com/github/CesiaFlores09/PROGRAMACION-III/blob/master/Tarea.ipynb\" target=\"_parent\"><img src=\"https://colab.research.google.com/assets/colab-badge.svg\" alt=\"Open In Colab\"/></a>"
      ]
    },
    {
      "cell_type": "code",
      "metadata": {
        "colab": {
          "base_uri": "https://localhost:8080/"
        },
        "id": "Z7zMSPwwoVNx",
        "outputId": "074d35c7-bab1-48c4-ddae-0868203e8bf3"
      },
      "source": [
        "def convertirCF(c):\n",
        "  f = (c * 9/5)+ 32\n",
        "  return f\n",
        "\n",
        "c = float(input(\"Grado Celcius: \"))\n",
        "print(\"Grado Celsius: \", str(c), \"a Grado Farrenheit: \", str( convertirCF(c) ))"
      ],
      "execution_count": null,
      "outputs": [
        {
          "output_type": "stream",
          "text": [
            "Grado Celcius: 90\n",
            "Grado Celsius:  90.0 a Grado Farrenheit:  194.0\n"
          ],
          "name": "stdout"
        }
      ]
    },
    {
      "cell_type": "code",
      "metadata": {
        "id": "epMXqJtxoea4",
        "colab": {
          "base_uri": "https://localhost:8080/"
        },
        "outputId": "4952776a-f9fe-4ba2-91c4-739619cdb2ec"
      },
      "source": [
        "\n",
        "\n",
        "fechaNacimiento = int(input(\"Ingrese su año de nacimiento: \"))\n",
        "\n",
        "AnioActual = 2021\n",
        "\n",
        "Edad = AnioActual - fechaNacimiento\n",
        "\n",
        "print(\"Su edad es: \", Edad, \"años\")\n",
        "\n"
      ],
      "execution_count": null,
      "outputs": [
        {
          "output_type": "stream",
          "text": [
            "Ingrese su año de nacimiento: 2001\n",
            "Su edad es:  20 años\n"
          ],
          "name": "stdout"
        }
      ]
    },
    {
      "cell_type": "code",
      "metadata": {
        "colab": {
          "base_uri": "https://localhost:8080/"
        },
        "id": "aE0HBIK-uVXE",
        "outputId": "8e701fb7-d880-4d02-a9db-ee9ba7a483e9"
      },
      "source": [
        "Lab1C1 = float(input(\"Ingrese la nota del laboratorio 1 del computo 1: \"))\n",
        "Lab2C1 = float(input(\"Ingrese la nota del laboratorio 2 del computo 1: \"))\n",
        "parcial1C1 = float(input(\"Inglese la nota del parcial del computo 1: \"))\n",
        "NotaC1= (Lab1C1*0.30 + Lab2C1*0.30 + parcial1C1*0.40)\n",
        "print(\"La nota del computo 1 es: \", NotaC1)\n",
        "\n",
        "Lab1C2 = float(input(\"Ingrese la nota del laboratorio 1 del  computo 2: \"))\n",
        "Lab2C2 = float(input(\"Ingrese la nota del laboratorio 2 del computo 2: \"))\n",
        "parcial1C2 = float(input(\"Inglese la nota del parcial del computo 2: \"))\n",
        "NotaC2= (Lab1C2*0.30 + Lab2C2*0.30 + parcial1C2*0.40)\n",
        "print(\"La nota del computo 2 es: \", NotaC2)\n",
        "\n",
        "Lab1C3 = float(input(\"Ingrese la nota del laboratorio 1 del  computo 3: \"))\n",
        "Lab2C3 = float(input(\"Ingrese la nota del laboratorio 2 del computo 3: \"))\n",
        "parcial1C3 = float(input(\"Inglese la nota del parcial del computo 3: \"))\n",
        "NotaC3= (Lab1C3*0.30 + Lab2C3*0.30 + parcial1C3*0.40)\n",
        "print(\"La nota del computo 3 es: \", NotaC3)\n",
        "\n",
        "NotaCiclo=(NotaC1 + NotaC2 + NotaC3)/3\n",
        "print(\"La nota del ciclo es: \", NotaCiclo)\n",
        "\n"
      ],
      "execution_count": null,
      "outputs": [
        {
          "output_type": "stream",
          "text": [
            "Ingrese la nota del laboratorio 1 del computo 1: 7\n",
            "Ingrese la nota del laboratorio 2 del computo 1: 4\n",
            "Inglese la nota del parcial del computo 1: 3\n",
            "La nota del computo 1 es:  4.5\n",
            "Ingrese la nota del laboratorio 1 del  computo 2: 6\n",
            "Ingrese la nota del laboratorio 2 del computo 2: 6\n",
            "Inglese la nota del parcial del computo 2: 7\n",
            "La nota del computo 2 es:  6.4\n",
            "Ingrese la nota del laboratorio 1 del  computo 3: 5\n",
            "Ingrese la nota del laboratorio 2 del computo 3: 5\n",
            "Inglese la nota del parcial del computo 3: 3\n",
            "La nota del computo 3 es:  4.2\n",
            "La nota del ciclo es:  5.033333333333334\n"
          ],
          "name": "stdout"
        }
      ]
    },
    {
      "cell_type": "code",
      "metadata": {
        "id": "STKcmamGufQF",
        "colab": {
          "base_uri": "https://localhost:8080/"
        },
        "outputId": "93896b70-bc6e-421d-fca1-96689dad63b4"
      },
      "source": [
        "conversion = lambda c:(c * 9/5)+ 32 #Con lambda\n",
        "c = float(input(\"Grados Celsius: \"))\n",
        "print(\"Grados Celsius: \", c, \"a Grados a Fahrenheit: \", conversion(c))"
      ],
      "execution_count": null,
      "outputs": [
        {
          "output_type": "stream",
          "text": [
            "Grados Celsius: 90\n",
            "Grados Celsius:  90.0 a Grados a Fahrenheit:  194.0\n"
          ],
          "name": "stdout"
        }
      ]
    },
    {
      "cell_type": "code",
      "metadata": {
        "colab": {
          "base_uri": "https://localhost:8080/"
        },
        "id": "momfoP-Wr5x9",
        "outputId": "6be19d38-3c8c-4444-92de-4cf919f51f2f"
      },
      "source": [
        "edad = lambda FechN, AniA: AniA-FechN #Con lambda\n",
        "FechN = int(input(\"Ingrese la fecha de nacimiento: \"))\n",
        "AniA= 2021\n",
        "print(\"Su edad es: \", edad(FechN, AniA))"
      ],
      "execution_count": null,
      "outputs": [
        {
          "output_type": "stream",
          "text": [
            "Ingrese la fecha de nacimiento: 2001\n",
            "Su edad es:  20\n"
          ],
          "name": "stdout"
        }
      ]
    },
    {
      "cell_type": "code",
      "metadata": {
        "id": "TwO4D86IukNy",
        "colab": {
          "base_uri": "https://localhost:8080/"
        },
        "outputId": "444508d9-1dbe-4eaa-99a8-27cf284672ac"
      },
      "source": [
        "NotaC1=lambda Lab1C1, Lab2C1, parcial1C1:(Lab1C1*0.30 + Lab2C1*0.30 + parcial1C1*0.40) #Con lambda\n",
        "Lab1C1 = float(input(\"Ingrese la nota del laboratorio 1 del computo 1: \"))\n",
        "Lab2C1 = float(input(\"Ingrese la nota del laboratorio 2 del computo 1: \"))\n",
        "parcial1C1 = float(input(\"Inglese la nota del parcial del computo 1: \"))\n",
        "print(\"La nota del computo 1 es: \", NotaC1(Lab1C1, Lab2C1, parcial1C1))\n",
        "\n",
        "NotaC2=lambda Lab1C2, Lab2C2, parcial1C2:(Lab1C2*0.30 + Lab2C2*0.30 + parcial1C2*0.40)\n",
        "Lab1C2 = float(input(\"Ingrese la nota del laboratorio 1 del  computo 2: \"))\n",
        "Lab2C2 = float(input(\"Ingrese la nota del laboratorio 2 del computo 2: \"))\n",
        "parcial1C2 = float(input(\"Inglese la nota del parcial del computo 2: \"))\n",
        "print(\"La nota del computo 2 es: \", NotaC2(Lab1C2, Lab2C2,parcial1C2 ))\n",
        "\n",
        "NotaC3=lambda Lab1C3, Lab2C3, parcial1C3:(Lab1C3*0.30 + Lab2C3*0.30 + parcial1C3*0.40)\n",
        "Lab1C3 = float(input(\"Ingrese la nota del laboratorio 1 del  computo 3: \"))\n",
        "Lab2C3 = float(input(\"Ingrese la nota del laboratorio 2 del computo 3: \"))\n",
        "parcial1C3 = float(input(\"Inglese la nota del parcial del computo 3: \"))\n",
        "print(\"La nota del computo 3 es: \", NotaC3(Lab1C3, Lab2C3, parcial1C3))\n",
        "                                           \n",
        "NotaCiclo=(NotaC1(Lab1C1, Lab2C1, parcial1C1) + NotaC2(Lab1C2, Lab2C2,parcial1C2 ) + NotaC3(Lab1C3, Lab2C3, parcial1C3))/3\n",
        "print(\"La nota del ciclo es: \", NotaCiclo)"
      ],
      "execution_count": null,
      "outputs": [
        {
          "output_type": "stream",
          "text": [
            "Ingrese la nota del laboratorio 1 del computo 1: 10\n",
            "Ingrese la nota del laboratorio 2 del computo 1: 10\n",
            "Inglese la nota del parcial del computo 1: 10\n",
            "La nota del computo 1 es:  10.0\n",
            "Ingrese la nota del laboratorio 1 del  computo 2: 10\n",
            "Ingrese la nota del laboratorio 2 del computo 2: 10\n",
            "Inglese la nota del parcial del computo 2: 10\n",
            "La nota del computo 2 es:  10.0\n",
            "Ingrese la nota del laboratorio 1 del  computo 3: 10\n",
            "Ingrese la nota del laboratorio 2 del computo 3: 10\n",
            "Inglese la nota del parcial del computo 3: 10\n",
            "La nota del computo 3 es:  10.0\n",
            "La nota del ciclo es:  10.0\n"
          ],
          "name": "stdout"
        }
      ]
    },
    {
      "cell_type": "markdown",
      "metadata": {
        "id": "CcLh0zp-4r3F"
      },
      "source": [
        "Ejercicio 1 Calculo salario\n"
      ]
    },
    {
      "cell_type": "code",
      "metadata": {
        "id": "QZs3adyV45Z8"
      },
      "source": [
        "sueldo = float(input(\"Ingrese su sueldo: \"))\n",
        "isss = sueldo*0.03\n",
        "afp = sueldo * 0.0625\n",
        "sueldoNeto = sueldo - isss - afp\n",
        "tablaIsr=[\n",
        "          [0.01,    472.0,  0,    0     ],\n",
        "          [472.01,  895.24,  0.10, 17.67 ],\n",
        "          [895.25,  2038.10, 0.20, 60    ],\n",
        "          [2038.11, 99999,    0.30, 288.55]\n",
        "]\n",
        "isr=0\n",
        "for tramo in tablaIsr:\n",
        "  if sueldoNeto>=tramo[0] and sueldo<=tramo[1]: \n",
        "   isr=(sueldoNeto-tramo[0])*tramo[2] + tramo[3]\n",
        "sueldoNeto-=isr\n",
        "print(\"Su sueldo es de: \", sueldo, \"Deducciones: \", (isss + afp + isr), \"Sueldo Neto \", sueldoNeto)"
      ],
      "execution_count": null,
      "outputs": []
    },
    {
      "cell_type": "markdown",
      "metadata": {
        "id": "3UAmEMT_48LV"
      },
      "source": [
        "Ejercicio 2 Calculo del consumo de agua\n"
      ]
    },
    {
      "cell_type": "code",
      "metadata": {
        "id": "QAYhPnnz5AHV"
      },
      "source": [
        "agua =int(input(\"Ingrese el consumo de agua: \"))\n",
        "valorFijo=6\n",
        "if agua<=18:\n",
        "  print(\"Su valor a cancelar es de 6 dolares\")\n",
        "elif agua<=28:\n",
        "    calculo=(agua-18)*0.45 + valorFijo\n",
        "    print(\"Su valor a cancelar es de:\", calculo, \"dolares\")\n",
        "elif agua>=29 and agua<=100:\n",
        "      calculo=(((agua-28)*0.65)+((28-18)*0.45) +valorFijo)\n",
        "      print(\"Su valor a cancelar es de: \", calculo,\"dolares\")"
      ],
      "execution_count": null,
      "outputs": []
    },
    {
      "cell_type": "markdown",
      "metadata": {
        "id": "TsBexd_mkj3w"
      },
      "source": [
        "Ejercicio 3 Meses acumulados"
      ]
    },
    {
      "cell_type": "code",
      "metadata": {
        "colab": {
          "base_uri": "https://localhost:8080/"
        },
        "id": "2nm9o04hkpqm",
        "outputId": "c369bc51-44f4-44ca-ca04-63582c59fc45"
      },
      "source": [
        "#Desarrolle la tabla de meses acumulados a n meses\n",
        "\n",
        "print('\\033[4m\\033[1mCalcular los meses acumulados:\\033[0m\\n') \n",
        "\n",
        "meses = int(input(\"Ingrese el número de meses: \"))\n",
        "acumulacion = 0.5*meses**2+0.5*meses\n",
        "print(\"\\033[1mLa acumulación es: \\033[0m\",acumulacion)"
      ],
      "execution_count": null,
      "outputs": [
        {
          "output_type": "stream",
          "name": "stdout",
          "text": [
            "\u001b[4m\u001b[1mCalcular los meses acumulados:\u001b[0m\n",
            "\n",
            "Ingrese el número de meses: 2\n",
            "\u001b[1mLa acumulación es: \u001b[0m 3.0\n"
          ]
        }
      ]
    },
    {
      "cell_type": "markdown",
      "metadata": {
        "id": "oqONV0Z0WNPS"
      },
      "source": [
        "Ejercicio 4 Conversores\n"
      ]
    },
    {
      "cell_type": "code",
      "metadata": {
        "colab": {
          "base_uri": "https://localhost:8080/"
        },
        "id": "1PiNip2bWg5-",
        "outputId": "ddbd3513-dd3d-46bd-aef8-6d4155be1769"
      },
      "source": [
        "valores = [\n",
        "           [],\n",
        "           [0, 1, 0.85, 23.8, 35.11, 7.74, 8.75, 621.61, 109.81, 0.73, 97.57], #monedas\n",
        "           [0, 1, 100, 1000, 1e+6, 1e+9, 0.000621371, 1.09361, 39.3701, 3.28084, 0.000539957], #Longitud\n",
        "           [0, 1, 1000, 1e+6, 1e+9, 0.000984207, 0.00110231, 0.157473, 2.20462, 35.274, 0.001], #Masa\n",
        "           [0, 1, 0.001, 0.000976563, 1e-6, 9.5367e-7, 1e-9, 9.3132e-10, 1e-12, 9.0949e-13, 1e-15], #Almacenamiento\n",
        "           [0, 1, 1e+9, 1e+6, 1000, 0.0166667, 0.000277778, 1.1574e-5, 1.6534e-6, 3.8052e-7, 3.171e-8], #Tiempo\n",
        "           [0, 1, 0.264172, 1.05669, 2.11338, 4.16667, 33.814, 67.628, 202.884, 0.001, 1000], #Volumen\n",
        "           [0, 1, 1e-6, 3.861e-7, 1.19599, 10.7639, 1550, 1e-4, 0.000247105, 0.09, 0.03], #Area\n",
        "           [0, 1, 0.092903, 0.00014774656489, 0.00001317, 9.2903e-6, 0.111111, 0.1111, 9.29e+26, 0.0000929, 0.001858], #Manzana \n",
        "           [0, 1, 6768.34687, 0.015537924273, 6.288e-16, 0.06288, 974641.94928, 0.0006288, 0.000020369860692, 7.0252735108e-30, 15537.924273], #Tarea\n",
        "]\n",
        "etiquetas = [\n",
        "           [],\n",
        "           [\"1. Dolar Estadiunidense\", \"2. Euro\", \"3. Lempira\",\"4. Cordobas\", \"5. Quetzalez\", \"6. Colon SV\", \"7. Colon CR\", \"8. Yen\", \"9. Esterlina\", \"10. Peso argentino\"],\n",
        "           [\"1. Metro\", \"2. Centimetro\", \"3. Milimetro\", \"4. micrometro\", \"5. Nanometro\", \"6. Milla\", \"7. Yarda\", \"8. Pulgada\", \"9. Pie\", \"10. Milla nautica\"],\n",
        "           [\"1. Kilogramo\", \"2. Gramo\", \"3. Miligramo\", \"4. Microgramo\", \"5. Tonelada larga\", \"6. Tonelada corta\", \"7. Stone\", \"8. Libra\", \"9. Onza\", \"10. Tonelada\"],\n",
        "           [\"1. Bit\", \"2. Kilobit\", \"3. Kibibit\", \"4. Megabit\", \"5. Mebibit\", \"6. Gigabit\", \"7. Gibibit\", \"8. Terabit\", \"9. Tebibit\", \"10. Petabit\"],\n",
        "           [\"1. Segundo\", \"2. Nanosegundo\", \"3. Microsegundo\", \"4. Milisegundo\", \"5. Minuto\", \"6. Hora\", \"7. Dia\", \"8. Semana\", \"9. Mes\", \"10. Año natural\"],\n",
        "           [\"1. Litro\", \"2. Galon estadounidense\", \"3. Cuarto estadounidense\", \"4. Pinta estadounidense\", \"5. Taza americana oficial\", \"6. Onza liquida estadounidense\", \"7. Cucharada estadounidense\", \"8. Cucharadita estadounidense\", \"9. Metro cubico\", \"10. Mililitro\"],\n",
        "           [\"1. Metro cuadrado\", \"2. Kilometro cuadrado\", \"3. Milla cuadrada\", \"4. Yarda cuadrada\", \"5. Pie cuadrado\", \"6. Pulgada cuadrada\", \"7. Hectarea\", \"8. Acre\", \"9. Cuadrado\", \"10. Rod cuadrado\"],\n",
        "           [\"1. Pie cuadrado\", \"2. Metro cuadrado\", \"3. Tareas\", \"4. Manzanas\", \"5. Hectarea\", \" 6. Yarda cuadrada\", \"7. Vara cuadrada\", \"8. Barn\", \"9. Decar\", \"10. Area\"],\n",
        "           [\"1. Metro cuadrado\", \"2. Pie cuadrado\", \"3. Cuadrados furlong\", \"4. Gigameter cuadrado\", \"5. Hectometro cuadrado\", \"6. Pulgada cuadrada\", \"7. Kilometro cuadrado\", \"8. Liga cuadrada\", \"9. Año luz cuadrado\", \"10. Enlace cuadrado\"],\n",
        "]\n",
        "def convertir(conversor, de, a, cantidad):\n",
        "  return valores[conversor][a]/valores[conversor][de] * cantidad\n",
        "\n",
        "print(\"*** MENU ***\")\n",
        "print(\"* 1. Monedas\")\n",
        "print(\"* 2. Longitud\")\n",
        "print(\"* 3. Masa\")\n",
        "print(\"* 4. Almacenamiento\")\n",
        "print(\"* 5. Tiempo\")\n",
        "print(\"* 6. Volumen\")\n",
        "print(\"* 7. Area\")\n",
        "print(\"* 8. Manzana\")\n",
        "print(\"* 9. Tarea\")\n",
        "conversor = int(input(\"Conversor: \"))\n",
        "\n",
        "print( etiquetas[conversor] )\n",
        "\n",
        "de = int(input(\"DE: \"))\n",
        "a = int(input(\"A: \"))\n",
        "cantidad = float(input(\"Cantidad: \"))\n",
        "\n",
        "print(\"Respuesta: \", convertir(conversor, de, a, cantidad) )"
      ],
      "execution_count": null,
      "outputs": [
        {
          "output_type": "stream",
          "text": [
            "*** MENU ***\n",
            "* 1. Monedas\n",
            "* 2. Longitud\n",
            "* 3. Masa\n",
            "* 4. Almacenamiento\n",
            "* 5. Tiempo\n",
            "* 6. Volumen\n",
            "* 7. Area\n",
            "* 8. Manzana\n",
            "* 9. Tarea\n",
            "Conversor: 2\n",
            "['1. Metro', '2. Centimetro', '3. Milimetro', '4. micrometro', '5. Nanometro', '6. Milla', '7. Yarda', '8. Pulgada', '9. Pie', '10. Milla nautica']\n",
            "DE: 1\n",
            "A: 2\n",
            "Cantidad: 5\n",
            "Respuesta:  500.0\n"
          ],
          "name": "stdout"
        }
      ]
    },
    {
      "cell_type": "markdown",
      "metadata": {
        "id": "uloVxTc6pKX7"
      },
      "source": [
        "Ejercicio 5 Conversor propio\n"
      ]
    },
    {
      "cell_type": "code",
      "metadata": {
        "id": "BECvFgw6pQr-",
        "colab": {
          "base_uri": "https://localhost:8080/"
        },
        "outputId": "e962d1c0-d650-449a-ac83-360da182945a"
      },
      "source": [
        "valor=[\n",
        "       [],\n",
        "       [0, 1, 25,  0.0075 ],#caja\n",
        "       [0, 1, 50,  0.067 ],#saco\n",
        "       [0 ,1, 5,  0.059]\n",
        "]\n",
        "etiq=[\n",
        "      [],\n",
        "      [\"1. caja\",\"2.unidades \", \"3. cajas/unidades\"],\n",
        "      [\"1.saco\", \"2. libras\", \"3. sacos/libras\"],\n",
        "      [\"1. fardo\",\"2. unidades\", \"3. fardos/unidades\"]\n",
        "]\n",
        "def convertir(conversor, de, a, cantidad):\n",
        "  return valor[conversor][a]/valor[conversor][de] * cantidad\n",
        "\n",
        "\n",
        "print(\"***MENU***\")\n",
        "print(\"1. Cajas\")\n",
        "print(\"2. saco\")\n",
        "print(\"3. fardo\")\n",
        "\n",
        "\n",
        "conversor = int(input(\"Conversor: \"))\n",
        "\n",
        "print( etiq[conversor] )\n",
        "\n",
        "de = int(input(\"DE: \"))\n",
        "a = int(input(\"A: \"))\n",
        "cantidad = float(input(\"Cantidad: \"))\n",
        "\n",
        "print(\"Respuesta: \", convertir(conversor, de, a, cantidad) )"
      ],
      "execution_count": 1,
      "outputs": [
        {
          "output_type": "stream",
          "name": "stdout",
          "text": [
            "***MENU***\n",
            "1. Cajas\n",
            "2. saco\n",
            "3. fardo\n",
            "Conversor: 1\n",
            "['1. caja', '2.unidades ', '3. cajas/unidades']\n",
            "DE: 1\n",
            "A: 2\n",
            "Cantidad: 1\n",
            "Respuesta:  25.0\n"
          ]
        }
      ]
    }
  ]
}