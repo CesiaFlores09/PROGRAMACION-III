{
  "nbformat": 4,
  "nbformat_minor": 0,
  "metadata": {
    "colab": {
      "name": " fundamentos de python.ipynb",
      "provenance": [],
      "collapsed_sections": [],
      "authorship_tag": "ABX9TyOzJ0iblPYKebpYf/rRaZuw",
      "include_colab_link": true
    },
    "kernelspec": {
      "name": "python3",
      "display_name": "Python 3"
    },
    "language_info": {
      "name": "python"
    }
  },
  "cells": [
    {
      "cell_type": "markdown",
      "metadata": {
        "id": "view-in-github",
        "colab_type": "text"
      },
      "source": [
        "<a href=\"https://colab.research.google.com/github/CesiaFlores09/PROGRAMACION-III/blob/master/fundamentos_de_python.ipynb\" target=\"_parent\"><img src=\"https://colab.research.google.com/assets/colab-badge.svg\" alt=\"Open In Colab\"/></a>"
      ]
    },
    {
      "cell_type": "code",
      "metadata": {
        "id": "V0BF8f7eXXX_",
        "colab": {
          "base_uri": "https://localhost:8080/"
        },
        "outputId": "5fcfbf00-b3d9-46f7-dcb6-70db7e4057b4"
      },
      "source": [
        "print(\"Hola mundo\", \"Bienvenidos a progra III con python\", \"Hola chicos\")"
      ],
      "execution_count": null,
      "outputs": [
        {
          "output_type": "stream",
          "text": [
            "Hola mundo Bienvenidos a progra III con python Hola chicos\n"
          ],
          "name": "stdout"
        }
      ]
    },
    {
      "cell_type": "code",
      "metadata": {
        "colab": {
          "base_uri": "https://localhost:8080/"
        },
        "id": "9cH1ELkzeYFX",
        "outputId": "12f0feab-f063-4dfb-b01b-ebefd2f68508"
      },
      "source": [
        "Saludo = \"Hola\"\n",
        "print(Saludo + \"Mundo\")\n",
        "print(Saludo[1])"
      ],
      "execution_count": null,
      "outputs": [
        {
          "output_type": "stream",
          "text": [
            "HolaMundo\n",
            "o\n"
          ],
          "name": "stdout"
        }
      ]
    },
    {
      "cell_type": "code",
      "metadata": {
        "colab": {
          "base_uri": "https://localhost:8080/"
        },
        "id": "ThkQST3Ne6qL",
        "outputId": "f04640a8-84c7-4f7a-a210-19d95b88fe7a"
      },
      "source": [
        "nombre = input(\"Como te llamas: \")\n",
        "print(\"Hola \"+nombre, \"Tu letra inicial es: \", nombre[0], \"Tu nombre tiene: \", nombre.__len__(), \" caracteres\" )"
      ],
      "execution_count": null,
      "outputs": [
        {
          "output_type": "stream",
          "text": [
            "Como te llamas: Cesia\n",
            "Hola Cesia Tu letra inicial es:  C Tu nombre tiene:  5  caracteres\n"
          ],
          "name": "stdout"
        }
      ]
    },
    {
      "cell_type": "code",
      "metadata": {
        "colab": {
          "base_uri": "https://localhost:8080/"
        },
        "id": "mlxA7ztngC0D",
        "outputId": "7a906229-0e6d-4c9e-c9be-aef9ec6e067c"
      },
      "source": [
        "num1=5\n",
        "num2=6\n",
        "resp = num1 + num2\n",
        "print(\"La suma es : \", resp)"
      ],
      "execution_count": null,
      "outputs": [
        {
          "output_type": "stream",
          "text": [
            "La suma es :  11\n"
          ],
          "name": "stdout"
        }
      ]
    },
    {
      "cell_type": "code",
      "metadata": {
        "colab": {
          "base_uri": "https://localhost:8080/"
        },
        "id": "alRgXY_whn-3",
        "outputId": "ac03b7d2-38fe-41d2-d8ef-a657a4583d1f"
      },
      "source": [
        "num1= input(\"Num1: \")\n",
        "num2= input (\"Num2: \")\n",
        "resp = float(num1) + float(num2)\n",
        "print(\"La suma es : \", resp)"
      ],
      "execution_count": null,
      "outputs": [
        {
          "output_type": "stream",
          "text": [
            "Num1: 10\n",
            "Num2: 15\n",
            "La suma es :  25.0\n"
          ],
          "name": "stdout"
        }
      ]
    },
    {
      "cell_type": "code",
      "metadata": {
        "colab": {
          "base_uri": "https://localhost:8080/"
        },
        "id": "oIf1FLjiiTZ8",
        "outputId": "140a892e-9925-49bf-90dc-db52fda489b4"
      },
      "source": [
        "num1= input(\"Num1: \")\n",
        "num1= float(num1)\n",
        "num2= float(input(\"Num2: \"))\n",
        "resp = num1 + num2\n",
        "print(\"La suma es : \", resp)"
      ],
      "execution_count": null,
      "outputs": [
        {
          "output_type": "stream",
          "text": [
            "Num1: 13\n",
            "Num2: 45\n",
            "La suma es :  58.0\n"
          ],
          "name": "stdout"
        }
      ]
    },
    {
      "cell_type": "code",
      "metadata": {
        "colab": {
          "base_uri": "https://localhost:8080/"
        },
        "id": "gJvtFkjviwyi",
        "outputId": "d686ce6b-4eb9-4caf-c3d6-086b15bb8013"
      },
      "source": [
        "print(\"Hola nuevamente\", nombre)"
      ],
      "execution_count": null,
      "outputs": [
        {
          "output_type": "stream",
          "text": [
            "Hola nuevamente Cesia\n"
          ],
          "name": "stdout"
        }
      ]
    },
    {
      "cell_type": "code",
      "metadata": {
        "colab": {
          "base_uri": "https://localhost:8080/"
        },
        "id": "u1MmhKOIi6c7",
        "outputId": "22d9e788-8ff3-48ec-ae3f-46e1445fec52"
      },
      "source": [
        "gustapython = True\n",
        "print(\"hola \", nombre, \" te gusta python \", gustapython)"
      ],
      "execution_count": null,
      "outputs": [
        {
          "output_type": "stream",
          "text": [
            "hola  Cesia  te gusta python  True\n"
          ],
          "name": "stdout"
        }
      ]
    },
    {
      "cell_type": "code",
      "metadata": {
        "colab": {
          "base_uri": "https://localhost:8080/"
        },
        "id": "KcQwMWZtjnej",
        "outputId": "df8f0309-7f7e-4a90-bb2e-f0debaf77f0c"
      },
      "source": [
        "print( \"nombre: \", type(nombre), \"num1: \",type(num1), \"num2: \", type(num2), \"resp: \", type(resp), \"gustapython: \", type(gustapython), \"1\", type(1))"
      ],
      "execution_count": null,
      "outputs": [
        {
          "output_type": "stream",
          "text": [
            "nombre:  <class 'str'> num1:  <class 'float'> num2:  <class 'float'> resp:  <class 'float'> gustapython:  <class 'bool'> 1 <class 'int'>\n"
          ],
          "name": "stdout"
        }
      ]
    },
    {
      "cell_type": "code",
      "metadata": {
        "colab": {
          "base_uri": "https://localhost:8080/"
        },
        "id": "ls4vdN8MkdZS",
        "outputId": "a19f847a-61c6-454f-e6e6-8dc347cb4768"
      },
      "source": [
        "print(\"resp: \"+ str(resp))"
      ],
      "execution_count": null,
      "outputs": [
        {
          "output_type": "stream",
          "text": [
            "resp: 58.0\n"
          ],
          "name": "stdout"
        }
      ]
    },
    {
      "cell_type": "code",
      "metadata": {
        "colab": {
          "base_uri": "https://localhost:8080/"
        },
        "id": "ULiofxw5kqgr",
        "outputId": "53955244-b793-495f-8895-5c470173357b"
      },
      "source": [
        "def suma(num1, num2):\n",
        " resp= num1 + num2\n",
        " return resp\n",
        "num1 = float(input(\"Num1: \"))\n",
        "num2 = float(input(\"Num2: \"))\n",
        "resp= suma(num1, num2)\n",
        "print(resp)"
      ],
      "execution_count": null,
      "outputs": [
        {
          "output_type": "stream",
          "text": [
            "Num1: 14.4\n",
            "Num2: 16.9\n",
            "31.299999999999997\n"
          ],
          "name": "stdout"
        }
      ]
    },
    {
      "cell_type": "code",
      "metadata": {
        "id": "KEuHkl8LovQl"
      },
      "source": [
        "def convertirFC(f):\n",
        "  c = (f-32)*5/9\n",
        "  return c\n",
        "\n",
        "f = float(input(\"F: \"))\n",
        "print(\"F: \", str(f), \" a celsius: \", str( convertirFC(f) ))"
      ],
      "execution_count": null,
      "outputs": []
    },
    {
      "cell_type": "code",
      "metadata": {
        "id": "3XDYsBqWowry"
      },
      "source": [
        "num1 = int(input(\"Num1: \"))\n",
        "num2 = int(input(\"Num2: \"))\n",
        "print(\"Los numero\", str(num1), \",\", str(num2), \" son iguales: \", str(num1==num2) )"
      ],
      "execution_count": null,
      "outputs": []
    },
    {
      "cell_type": "code",
      "metadata": {
        "id": "9p78bn4Qo5pG"
      },
      "source": [
        "numHrs = int(input(\"Num. de Hrs trabajadas: \"))\n",
        "valorHr = float(input(\"Valor por hr: \"))\n",
        "\n",
        "sueldo = numHrs*valorHr*30\n",
        "print(\"Sueldo: \", sueldo)"
      ],
      "execution_count": null,
      "outputs": []
    },
    {
      "cell_type": "code",
      "metadata": {
        "id": "0xDgfqUpo8dq"
      },
      "source": [
        "def calcularSueldo(numHrs, valorHr):\n",
        "  hrsExtras = 0\n",
        "  if( numHrs>8 ):\n",
        "    hrsExtras = numHrs-8\n",
        "  sueldo = (8*valorHr + hrsExtras*valorHr*2)*30\n",
        "  return sueldo\n",
        "\n",
        "numHrs = int(input(\"Num. hrs trabajadas: \"))\n",
        "valorHr = float(input(\"Valor x hr: \"))\n",
        "print(\"Sueldo: \", str(calcularSueldo(numHrs, valorHr)))"
      ],
      "execution_count": null,
      "outputs": []
    },
    {
      "cell_type": "code",
      "metadata": {
        "colab": {
          "base_uri": "https://localhost:8080/"
        },
        "id": "KXk3LoJufFBW",
        "outputId": "8c7513f3-7425-4dee-912f-11fb969dfeae"
      },
      "source": [
        "suma = lambda num1, num2: num1+num2\n",
        "num1 = float(input(\"Ingrese el numero 1: \"))\n",
        "num2 = float(input(\"Ingrese el numero 2: \"))\n",
        "print(\"La suma es: \", suma(num1, num2))"
      ],
      "execution_count": null,
      "outputs": [
        {
          "output_type": "stream",
          "text": [
            "Ingrese el numero 1: 5\n",
            "Ingrese el numero 2: 6\n",
            "La suma es:  11.0\n"
          ],
          "name": "stdout"
        }
      ]
    },
    {
      "cell_type": "code",
      "metadata": {
        "colab": {
          "base_uri": "https://localhost:8080/"
        },
        "id": "LMjs73HYftQt",
        "outputId": "772d26f9-5d7e-42ae-ceb8-3db753e458f5"
      },
      "source": [
        "conversion = lambda f:(f-32)*5/9\n",
        "f = float(input(\"Grados Fahrenheit: \"))\n",
        "print(\"Grados Fahrenheit: \", f, \"a Grados Celsius: \", conversion(f))"
      ],
      "execution_count": null,
      "outputs": [
        {
          "output_type": "stream",
          "text": [
            "Grados Fahrenheit: 105.5\n",
            "Grados Fahrenheit:  105.5 a Grados Celsius:  40.833333333333336\n"
          ],
          "name": "stdout"
        }
      ]
    },
    {
      "cell_type": "code",
      "metadata": {
        "colab": {
          "base_uri": "https://localhost:8080/"
        },
        "id": "VFbZrgbbgbkK",
        "outputId": "3116f5ed-eca3-409a-b643-e596ea8fd1aa"
      },
      "source": [
        "cuadrado = lambda n:n**2\n",
        "n = int(input(\"N: \"))\n",
        "print(\"N: \", n, \"al cuadrado es: \", cuadrado(n) )"
      ],
      "execution_count": null,
      "outputs": [
        {
          "output_type": "stream",
          "text": [
            "N: 3\n",
            "N:  3 al cuadrado es:  9\n"
          ],
          "name": "stdout"
        }
      ]
    },
    {
      "cell_type": "code",
      "metadata": {
        "colab": {
          "base_uri": "https://localhost:8080/"
        },
        "id": "yAeknOg8hKoO",
        "outputId": "b506d959-b7d8-4449-91a3-2eefd17eacf6"
      },
      "source": [
        "cubo = lambda n:n**3\n",
        "n = int(input(\"N: \"))\n",
        "print(\"N: \", n, \"al cubo es: \", cubo(n) )"
      ],
      "execution_count": null,
      "outputs": [
        {
          "output_type": "stream",
          "text": [
            "N: 3\n",
            "N:  3 al cubo es:  27\n"
          ],
          "name": "stdout"
        }
      ]
    },
    {
      "cell_type": "code",
      "metadata": {
        "colab": {
          "base_uri": "https://localhost:8080/"
        },
        "id": "UJGvpikWhZWe",
        "outputId": "66da9c10-f006-4adb-cd54-46df29fd99c4"
      },
      "source": [
        "exp = lambda n,e:n**e\n",
        "n = int(input(\"N: \"))\n",
        "e = int(input(\"Exponente: \"))\n",
        "print(n, \" elevado al exp\", e, \"es: \", exp(n,e) )"
      ],
      "execution_count": null,
      "outputs": [
        {
          "output_type": "stream",
          "text": [
            "N: 3\n",
            "Exponente: 2\n",
            "3  elevado al exp 2 es:  9\n"
          ],
          "name": "stdout"
        }
      ]
    },
    {
      "cell_type": "code",
      "metadata": {
        "colab": {
          "base_uri": "https://localhost:8080/"
        },
        "id": "qLf-NY6Wh408",
        "outputId": "c0d363b8-e2cc-4137-fec8-a887a4de6806"
      },
      "source": [
        "lista = [5,7,10,2,1]\n",
        "resp = list(map(lambda n:n*2, lista))\n",
        "print(resp)"
      ],
      "execution_count": null,
      "outputs": [
        {
          "output_type": "stream",
          "text": [
            "[10, 14, 20, 4, 2]\n"
          ],
          "name": "stdout"
        }
      ]
    },
    {
      "cell_type": "code",
      "metadata": {
        "colab": {
          "base_uri": "https://localhost:8080/"
        },
        "id": "xQx1Juv7iUjt",
        "outputId": "fb3c634b-f533-4844-efc1-13cfe1dc2c53"
      },
      "source": [
        "gfdepto = [85,58,105]\n",
        "cdepto = list(map(conversion, gfdepto))\n",
        "print(\"Los grados F: \", gfdepto, \"en Celsius es: \", cdepto)"
      ],
      "execution_count": null,
      "outputs": [
        {
          "output_type": "stream",
          "text": [
            "Los grados F:  [85, 58, 105] en Celsius es:  [29.444444444444443, 14.444444444444445, 40.55555555555556]\n"
          ],
          "name": "stdout"
        }
      ]
    },
    {
      "cell_type": "code",
      "metadata": {
        "colab": {
          "base_uri": "https://localhost:8080/"
        },
        "id": "eKr4QWm1j_p2",
        "outputId": "f829e470-b099-48ab-818d-2c19c5d7884e"
      },
      "source": [
        "resp=list(map(cuadrado, lista))\n",
        "print(\"La lista \", lista, \"el cuadrado es: \", resp)"
      ],
      "execution_count": null,
      "outputs": [
        {
          "output_type": "stream",
          "text": [
            "La lista  [5, 7, 10, 2, 1] el cuadrado es:  [25, 49, 100, 4, 1]\n"
          ],
          "name": "stdout"
        }
      ]
    },
    {
      "cell_type": "code",
      "metadata": {
        "colab": {
          "base_uri": "https://localhost:8080/"
        },
        "id": "81vLKuJwkWOV",
        "outputId": "5f9b2936-d7cb-4087-f4ba-8801d41caac7"
      },
      "source": [
        "resp=list(map(cubo, lista))\n",
        "print(\"La lista \", lista, \"el cubo es: \", resp)"
      ],
      "execution_count": null,
      "outputs": [
        {
          "output_type": "stream",
          "text": [
            "La lista  [5, 7, 10, 2, 1] el cubo es:  [125, 343, 1000, 8, 1]\n"
          ],
          "name": "stdout"
        }
      ]
    },
    {
      "cell_type": "code",
      "metadata": {
        "colab": {
          "base_uri": "https://localhost:8080/"
        },
        "id": "RpeyfVOike0A",
        "outputId": "ef212ec9-ba11-4be0-fb6c-47edc19a8752"
      },
      "source": [
        "resp = list(filter(lambda n:n<=2,lista))\n",
        "print(\"Los numeros <= 2 de la lista \", lista, \"son: \", resp)"
      ],
      "execution_count": null,
      "outputs": [
        {
          "output_type": "stream",
          "text": [
            "Los numeros <= 2 de la lista  [5, 7, 10, 2, 1] son:  [2, 1]\n"
          ],
          "name": "stdout"
        }
      ]
    },
    {
      "cell_type": "code",
      "metadata": {
        "colab": {
          "base_uri": "https://localhost:8080/"
        },
        "id": "nxy6EY-8lGJO",
        "outputId": "a2fea434-c785-4ce4-b7ef-9ff1677155ac"
      },
      "source": [
        "resp = list(filter(lambda n:n%2==0, lista))\n",
        "print(\"Los numeros pares de la lista : \", lista, \"son: \", resp )"
      ],
      "execution_count": null,
      "outputs": [
        {
          "output_type": "stream",
          "text": [
            "Los numeros pares de la lista :  [5, 7, 10, 2, 1] son:  [10, 2]\n"
          ],
          "name": "stdout"
        }
      ]
    },
    {
      "cell_type": "code",
      "metadata": {
        "colab": {
          "base_uri": "https://localhost:8080/"
        },
        "id": "PvQRuisblknO",
        "outputId": "3f76b99f-e261-4093-e584-dc07b49e2413"
      },
      "source": [
        "resp = list(filter(lambda n:n%2!=0, lista))\n",
        "print(\"Los numeros impares de la lista : \", lista, \"son: \", resp )"
      ],
      "execution_count": null,
      "outputs": [
        {
          "output_type": "stream",
          "text": [
            "Los numeros impares de la lista :  [5, 7, 10, 2, 1] son:  [5, 7, 1]\n"
          ],
          "name": "stdout"
        }
      ]
    },
    {
      "cell_type": "code",
      "metadata": {
        "colab": {
          "base_uri": "https://localhost:8080/"
        },
        "id": "KTDjCJSdl1QZ",
        "outputId": "6f97fbe3-dfd0-4262-94e3-b422ceaf398e"
      },
      "source": [
        "from functools import reduce\n",
        "resp = reduce(lambda x,y:x+y, lista)\n",
        "print(\"La suma de la lsita \", lista,\"es: \", resp, \"la media es: \", resp/len(lista))"
      ],
      "execution_count": null,
      "outputs": [
        {
          "output_type": "stream",
          "text": [
            "La suma de la lsita  [5, 7, 10, 2, 1] es:  25 la media es:  5.0\n"
          ],
          "name": "stdout"
        }
      ]
    },
    {
      "cell_type": "code",
      "metadata": {
        "colab": {
          "base_uri": "https://localhost:8080/"
        },
        "id": "gZyNf-gt-m76",
        "outputId": "d0ea5ca7-bc8a-44b4-eeea-7b989ad11681"
      },
      "source": [
        "persona = \"USIS002020\", \"Cesia Flores\", \"Zacatecoluca\", \"3421-2345\", \"florescsia@gmail.com\"\n",
        "print(persona)"
      ],
      "execution_count": null,
      "outputs": [
        {
          "output_type": "stream",
          "text": [
            "('USIS002020', 'Cesia Flores', 'Zacatecoluca', '3421-2345', 'florescsia@gmail.com')\n"
          ],
          "name": "stdout"
        }
      ]
    },
    {
      "cell_type": "code",
      "metadata": {
        "colab": {
          "base_uri": "https://localhost:8080/"
        },
        "id": "efRAmfI6_lDI",
        "outputId": "136793db-dcaf-4e6c-ffae-03c18310d7b0"
      },
      "source": [
        "nombre= \"Cesia Flores\"\n",
        "print(nombre[0:5], nombre.count(\"e\"))"
      ],
      "execution_count": null,
      "outputs": [
        {
          "output_type": "stream",
          "text": [
            "Cesia 2\n"
          ],
          "name": "stdout"
        }
      ]
    },
    {
      "cell_type": "code",
      "metadata": {
        "colab": {
          "base_uri": "https://localhost:8080/"
        },
        "id": "Ge9LBq8E__nq",
        "outputId": "e55d44fc-8226-41a6-e60b-2cfbd51951d0"
      },
      "source": [
        "name= [\"C\", \"E\", \"S\", \"I\", \"A\", \"F\", \"L\", \"O\", \"R\", \"E\", \"S\"]\n",
        "print(name, name[0:5], name.count(\"E\"), name.index(\"E\"))"
      ],
      "execution_count": null,
      "outputs": [
        {
          "output_type": "stream",
          "text": [
            "['C', 'E', 'S', 'I', 'A', 'F', 'L', 'O', 'R', 'E', 'S'] ['C', 'E', 'S', 'I', 'A'] 2 1\n"
          ],
          "name": "stdout"
        }
      ]
    },
    {
      "cell_type": "code",
      "metadata": {
        "colab": {
          "base_uri": "https://localhost:8080/"
        },
        "id": "OkAS6d_RA5H8",
        "outputId": "4d1c5bfe-7428-456b-8cba-8523aa34fcca"
      },
      "source": [
        "person= [\"USIS002020\", \"Cesia Flores\", \"Direccion: Zacatecoluca\", \"3421-2345\", \"florescsia@gmail.com\", 34, 78.8]\n",
        "print(person)\n",
        "person.append(\"python\")\n",
        "person.insert(2, \"Depto: La paz\")\n",
        "person[6]=7.8\n",
        "leng= person.pop()\n",
        "print(person, leng)"
      ],
      "execution_count": null,
      "outputs": [
        {
          "output_type": "stream",
          "text": [
            "['USIS002020', 'Cesia Flores', 'Direccion: Zacatecoluca', '3421-2345', 'florescsia@gmail.com', 34, 78.8]\n",
            "['USIS002020', 'Cesia Flores', 'Depto: La paz', 'Direccion: Zacatecoluca', '3421-2345', 'florescsia@gmail.com', 7.8, 78.8] python\n"
          ],
          "name": "stdout"
        }
      ]
    },
    {
      "cell_type": "code",
      "metadata": {
        "colab": {
          "base_uri": "https://localhost:8080/"
        },
        "id": "e6fOtppIByaW",
        "outputId": "2e9426ac-4974-4eeb-bf0b-0cd6579d09f1"
      },
      "source": [
        "nEnteros= [2,6,7,8,9]\n",
        "nOrdenados=sorted(nEnteros, reverse=True)\n",
        "numReverse=list(reversed(nEnteros))\n",
        "print(\"Lista desordenada: \", nEnteros, \"Lista Ordenada: \", nOrdenados, \"numeros al reves: \", numReverse)"
      ],
      "execution_count": null,
      "outputs": [
        {
          "output_type": "stream",
          "text": [
            "Lista desordenada:  [2, 6, 7, 8, 9] Lista Ordenada:  [9, 8, 7, 6, 2] numeros al reves:  [9, 8, 7, 6, 2]\n"
          ],
          "name": "stdout"
        }
      ]
    },
    {
      "cell_type": "code",
      "metadata": {
        "colab": {
          "base_uri": "https://localhost:8080/"
        },
        "id": "00nbhkpnvyDk",
        "outputId": "32fdb0ba-373e-4909-8fcd-4aa6f9017416"
      },
      "source": [
        "me=[\"USIS002020\", \"Cesia Flores\", \"Zacatecoluca\",503,\"7034-7835\",\"usis00202@ugb.edu.sv\",[\"Progra I\", \"Progra II\",[6,8,9,4], \"Progra III\"]]\n",
        "print( me[0][0:4], me[6][2][2], me[6][2][0])"
      ],
      "execution_count": null,
      "outputs": [
        {
          "output_type": "stream",
          "text": [
            "USIS 9 6\n"
          ],
          "name": "stdout"
        }
      ]
    },
    {
      "cell_type": "code",
      "metadata": {
        "colab": {
          "base_uri": "https://localhost:8080/"
        },
        "id": "Akfzi8cQw7qW",
        "outputId": "a8afc3d0-0bd2-4af5-af2c-d72fd224e67d"
      },
      "source": [
        "matriz=[\n",
        "        [1,2,3],\n",
        "        [3,5,6],\n",
        "        [5,7,6]\n",
        "]\n",
        "print(matriz)"
      ],
      "execution_count": null,
      "outputs": [
        {
          "output_type": "stream",
          "text": [
            "[[1, 2, 3], [3, 5, 6], [5, 7, 6]]\n"
          ],
          "name": "stdout"
        }
      ]
    },
    {
      "cell_type": "code",
      "metadata": {
        "colab": {
          "base_uri": "https://localhost:8080/"
        },
        "id": "JjNkCHNqxMYX",
        "outputId": "226dd2d9-6880-449b-9064-fe5025190253"
      },
      "source": [
        "matriz=[\n",
        "        [1,5,3,5],\n",
        "        [3,4,4],\n",
        "        [5,4],\n",
        "        [6,7,8,9,2],\n",
        "        7\n",
        "]\n",
        "print(matriz)\n"
      ],
      "execution_count": null,
      "outputs": [
        {
          "output_type": "stream",
          "text": [
            "[[1, 5, 3, 5], [3, 4, 4], [5, 4], [6, 7, 8, 9, 2], 7]\n"
          ],
          "name": "stdout"
        }
      ]
    },
    {
      "cell_type": "code",
      "metadata": {
        "colab": {
          "base_uri": "https://localhost:8080/"
        },
        "id": "7dNdU2lzydeB",
        "outputId": "fcc8305e-3230-43a8-928c-464bf995c627"
      },
      "source": [
        "lenguajes={\"Progra I\":\"VB\",\"Progra II\":\"JAVA\",\"Progra III\":\"Python\"}\n",
        "print(lenguajes[\"Progra III\"])"
      ],
      "execution_count": null,
      "outputs": [
        {
          "output_type": "stream",
          "text": [
            "Python\n"
          ],
          "name": "stdout"
        }
      ]
    },
    {
      "cell_type": "code",
      "metadata": {
        "colab": {
          "base_uri": "https://localhost:8080/"
        },
        "id": "OvrTCBFiy5ik",
        "outputId": "962ffb06-7784-4da3-ece6-f999bafb31f3"
      },
      "source": [
        "mi={\n",
        "    \"codigo\":\"USISOO2O20\",\n",
        "    \"nombre\":\"Cesia Flores\",\n",
        "    \"direccion\":{\n",
        "        \"pais\":{\n",
        "            \"codigo\":\"503\",\n",
        "            \"nombre\":\"El Salvador\",\n",
        "            \"codigoiso\":\"sv\",\n",
        "            \"continente\":{\n",
        "                \"nombre\":\"C.A\"\n",
        "                \n",
        "            }\n",
        "        },\n",
        "\n",
        "    \"departamento\":\"La Paz\",\n",
        "    \"municipio\":\"Santiago Nonualco\",\n",
        "    },\n",
        "    \"tels\":{\n",
        "        \"oficiona\":\"2345-689\",\n",
        "        \"casa\":\"2349-0876\",\n",
        "        \"celular\":\"5648-9847\"\n",
        "    }\n",
        "\n",
        "}\n",
        "print(mi[\"codigo\"], mi[\"nombre\"], mi[\"tels\"], mi[\"direccion\"][\"pais\"][\"nombre\"], mi[\"direccion\"][\"departamento\"])"
      ],
      "execution_count": null,
      "outputs": [
        {
          "output_type": "stream",
          "text": [
            "USISOO2O20 Cesia Flores {'oficiona': '2345-689', 'casa': '2349-0876', 'celular': '5648-9847'} El Salvador La Paz\n"
          ],
          "name": "stdout"
        }
      ]
    },
    {
      "cell_type": "code",
      "metadata": {
        "colab": {
          "base_uri": "https://localhost:8080/"
        },
        "id": "5QT7dx3L1Jr0",
        "outputId": "3d746f07-3207-4b48-8d53-7aba228e7e20"
      },
      "source": [
        "copia=mi.copy()\n",
        "print(copia)"
      ],
      "execution_count": null,
      "outputs": [
        {
          "output_type": "stream",
          "text": [
            "{'codigo': 'USISOO2O20', 'nombre': 'Cesia Flores', 'direccion': {'pais': {'codigo': '503', 'nombre': 'El Salvador', 'codigoiso': 'sv', 'continente': {'nombre': 'C.A'}}, 'departamento': 'La Paz', 'municipio': 'Santiago Nonualco'}, 'tels': {'oficiona': '2345-689', 'casa': '2349-0876', 'celular': '5648-9847'}}\n"
          ],
          "name": "stdout"
        }
      ]
    },
    {
      "cell_type": "code",
      "metadata": {
        "colab": {
          "base_uri": "https://localhost:8080/"
        },
        "id": "2PBNXyyx1Shl",
        "outputId": "0cd66b81-9fbb-4b6a-cf68-bd23b66afdda"
      },
      "source": [
        "pais=copia.get(\"direccion\")[\"pais\"][\"nombre\"]\n",
        "print(pais)\n",
        "nombre= mi.get(\"direccion\").get(\"pais\").get(\"codigo\")\n",
        "esqueleto= dict.fromkeys(mi,\"\")\n",
        "print(nombre, esqueleto)"
      ],
      "execution_count": null,
      "outputs": [
        {
          "output_type": "stream",
          "text": [
            "El Salvador\n",
            "503 {'codigo': '', 'nombre': '', 'direccion': '', 'tels': ''}\n"
          ],
          "name": "stdout"
        }
      ]
    },
    {
      "cell_type": "code",
      "metadata": {
        "colab": {
          "base_uri": "https://localhost:8080/"
        },
        "id": "_O4Fdirm2JhG",
        "outputId": "f3c25193-d307-488c-b668-1528b1c19785"
      },
      "source": [
        "items=list(mi.items())\n",
        "print(items)"
      ],
      "execution_count": null,
      "outputs": [
        {
          "output_type": "stream",
          "text": [
            "[('codigo', 'USISOO2O20'), ('nombre', 'Cesia Flores'), ('direccion', {'pais': {'codigo': '503', 'nombre': 'El Salvador', 'codigoiso': 'sv', 'continente': {'nombre': 'C.A'}}, 'departamento': 'La Paz', 'municipio': 'Santiago Nonualco'}), ('tels', {'oficiona': '2345-689', 'casa': '2349-0876', 'celular': '5648-9847'})]\n"
          ],
          "name": "stdout"
        }
      ]
    },
    {
      "cell_type": "code",
      "metadata": {
        "colab": {
          "base_uri": "https://localhost:8080/"
        },
        "id": "yVaqSPqI2Wys",
        "outputId": "ee013d33-0588-499b-f11b-852478b2f5a5"
      },
      "source": [
        "claves=list(mi.keys())\n",
        "print(claves, claves[0])"
      ],
      "execution_count": null,
      "outputs": [
        {
          "output_type": "stream",
          "text": [
            "['codigo', 'nombre', 'direccion', 'tels'] codigo\n"
          ],
          "name": "stdout"
        }
      ]
    },
    {
      "cell_type": "code",
      "metadata": {
        "colab": {
          "base_uri": "https://localhost:8080/"
        },
        "id": "zq7qhd-H3p9F",
        "outputId": "88bd3e53-aaaa-4c68-decb-702da744a570"
      },
      "source": [
        "edad= int(input(\"Ingrese su edad: \"))\n",
        "if edad<2:\n",
        "  print(\"Eres un bebe\")\n",
        "elif edad<12:\n",
        "  print(\"Eres un niño\")\n",
        "elif edad<18:\n",
        "  print(\"Eres un adolescente\")\n",
        "elif edad<=55:\n",
        "  print(\"Eres joven\")\n",
        "elif edad<=65:\n",
        "  print(\"Eres un adulto, un señor\")\n",
        "elif edad<=80:\n",
        "  print(\"Eres un adulto mayor\")\n",
        "elif edad<130:\n",
        "  print(\"Larga vida\")\n",
        "else:\n",
        " print(\"Error en la edad\")\n"
      ],
      "execution_count": null,
      "outputs": [
        {
          "output_type": "stream",
          "text": [
            "Ingrese su edad: 90\n",
            "Larga vida\n"
          ],
          "name": "stdout"
        }
      ]
    },
    {
      "cell_type": "code",
      "metadata": {
        "colab": {
          "base_uri": "https://localhost:8080/"
        },
        "id": "IV9qc8jA46GI",
        "outputId": "4ff531e1-4245-4166-9d39-1b6facb16554"
      },
      "source": [
        "n= int(input(\"Tabla: \"))\n",
        "i=1\n",
        "while i<=10:\n",
        "  print(n,\"X\",i,\"=\",n*i)\n",
        "  i+=1"
      ],
      "execution_count": null,
      "outputs": [
        {
          "output_type": "stream",
          "text": [
            "Tabla: 9\n",
            "9 X 1 = 9\n",
            "9 X 2 = 18\n",
            "9 X 3 = 27\n",
            "9 X 4 = 36\n",
            "9 X 5 = 45\n",
            "9 X 6 = 54\n",
            "9 X 7 = 63\n",
            "9 X 8 = 72\n",
            "9 X 9 = 81\n",
            "9 X 10 = 90\n"
          ],
          "name": "stdout"
        }
      ]
    },
    {
      "cell_type": "code",
      "metadata": {
        "colab": {
          "base_uri": "https://localhost:8080/"
        },
        "id": "ska5Dz7gWtmg",
        "outputId": "070585e2-8725-46ec-f7e5-a35067536761"
      },
      "source": [
        "sueldo = float(input(\"Sueldo: \"))\n",
        "isss = sueldo*0.03\n",
        "afp = sueldo*0.0625\n",
        "sueldoNeto = sueldo - (isss + afp)\n",
        "\n",
        "tablaIsr = [\n",
        "            [0.01,   472.0,   0,   0    ],\n",
        "            [472.01, 895.24,  0.1, 17.67],\n",
        "            [895.25, 2038.10, 0.2, 60   ],\n",
        "            [2038.11, 99999 , 0.3, 288.57]\n",
        "]\n",
        "isr = 0\n",
        "for tramo in tablaIsr:\n",
        "  if sueldoNeto>=tramo[0] and sueldo<=tramo[1]:\n",
        "    isr = (sueldoNeto - tramo[0])*tramo[2] + tramo[3]\n",
        "sueldoNeto -= isr\n",
        "print(sueldo, \"Deducciones: \", (isss + afp + isr), \" Sueldo Neto: \", sueldoNeto)"
      ],
      "execution_count": 1,
      "outputs": [
        {
          "output_type": "stream",
          "name": "stdout",
          "text": [
            "Sueldo: 800\n",
            "800.0 Deducciones:  117.069  Sueldo Neto:  682.931\n"
          ]
        }
      ]
    },
    {
      "cell_type": "code",
      "metadata": {
        "colab": {
          "base_uri": "https://localhost:8080/"
        },
        "id": "3T9k1kP_W2Cq",
        "outputId": "29aedc26-9d93-4a83-843b-45e868002127"
      },
      "source": [
        "valores = [\n",
        "           [],\n",
        "           [0, 1, 0.85, 23.8, 35.11, 7.74, 8.75, 621.61], #monedas\n",
        "           [],                                         #Longitud\n",
        "           [],                                         #Masa\n",
        "]\n",
        "etiquetas = [\n",
        "           [],\n",
        "           [\"1. Dolar\", \"2. Euro\", \"3. Lempira\",\"4. Cordobas\", \"5. Quetzalez\", \"6. Colon SV\", \"7. Colon CR\"],\n",
        "           []\n",
        "]\n",
        "def convertir(conversor, de, a, cantidad):\n",
        "  return valores[conversor][a]/valores[conversor][de] * cantidad\n",
        "\n",
        "print(\"*** MENU ***\")\n",
        "print(\"* 1. Monedas\")\n",
        "print(\"* 2. Longitud\")\n",
        "print(\"* 3. Masa\")\n",
        "conversor = int(input(\"Conversor: \"))\n",
        "\n",
        "print( etiquetas[conversor] )\n",
        "\n",
        "de = int(input(\"DE: \"))\n",
        "a = int(input(\"A: \"))\n",
        "cantidad = float(input(\"Cant: \"))\n",
        "\n",
        "print(\"Respuesta: \", convertir(conversor, de, a, cantidad) )"
      ],
      "execution_count": 5,
      "outputs": [
        {
          "output_type": "stream",
          "name": "stdout",
          "text": [
            "*** MENU ***\n",
            "* 1. Monedas\n",
            "* 2. Longitud\n",
            "* 3. Masa\n",
            "Conversor: 1\n",
            "['1. Dolar', '2. Euro', '3. Lempira', '4. Cordobas', '5. Quetzalez', '6. Colon SV', '7. Colon CR']\n",
            "DE: 1\n",
            "A: 2\n",
            "Cant: 24\n",
            "Respuesta:  20.4\n"
          ]
        }
      ]
    },
    {
      "cell_type": "code",
      "metadata": {
        "colab": {
          "base_uri": "https://localhost:8080/"
        },
        "id": "Gi2b5qABW6nW",
        "outputId": "d82ebbd6-906a-4b92-e12a-a86a874ac26a"
      },
      "source": [
        "nmeses = int(input(\"MESES: \"))\n",
        "i=0\n",
        "acumulacion = 0\n",
        "while i<=nmeses:\n",
        "  acumulacion += i\n",
        "  i+=1\n",
        "print(\"ACUMULACION \", acumulacion)"
      ],
      "execution_count": 4,
      "outputs": [
        {
          "output_type": "stream",
          "name": "stdout",
          "text": [
            "MESES: 21\n",
            "ACUMULACION  231\n"
          ]
        }
      ]
    },
    {
      "cell_type": "code",
      "metadata": {
        "colab": {
          "base_uri": "https://localhost:8080/"
        },
        "id": "ybI8jOJYW-PZ",
        "outputId": "0876d5df-43f1-41cf-9f8e-9f10172e25d9"
      },
      "source": [
        "nmeses = int(input(\"Dime los Meses Acumulado: \"))\n",
        "acumulado = nmeses * (nmeses/2 + 0.5)\n",
        "print(\"ACUMULADO: \", acumulado)"
      ],
      "execution_count": 3,
      "outputs": [
        {
          "output_type": "stream",
          "name": "stdout",
          "text": [
            "Dime los Meses Acumulado: 21\n",
            "ACUMULADO:  231.0\n"
          ]
        }
      ]
    },
    {
      "cell_type": "code",
      "metadata": {
        "colab": {
          "base_uri": "https://localhost:8080/"
        },
        "id": "rWZKQ0ccXCcW",
        "outputId": "00226b9a-c65f-4843-dc01-5ad44b611a9b"
      },
      "source": [
        "import pandas as pd\n",
        "leguajes = pd.Series([\n",
        "                      \"C#\",\n",
        "                      \"VB\",\n",
        "                      \"PHP\",\n",
        "                      \"HTML\",\n",
        "                      \"JS\",\n",
        "                      \"CSS\",\n",
        "                      \"JAVA\",\n",
        "                      \"XML\",\n",
        "                      \"Python\"],\n",
        "                     index=[2,1,4,5,6,9,3,8,10])\n",
        "print(leguajes, leguajes[2])\n",
        "\n",
        "diccionarioLenguajes = {\n",
        "    2:\"C#\",\n",
        "    1:\"VB\",\n",
        "    4:\"PHP\",\n",
        "    5:\"HTML\",\n",
        "    6:\"JS\",\n",
        "    9:\"CSS\",\n",
        "    3:\"JAVA\",\n",
        "    8:\"XML\",\n",
        "    10:\"Python\"\n",
        "}\n",
        "pdLenguajes = pd.Series(diccionarioLenguajes)\n",
        "print(pdLenguajes)\n",
        "\n",
        "for i in range(30,2000):\n",
        "  pdLenguajes[i] = \"Lenguaje Favorito \"+ str(i)\n",
        "print(pdLenguajes)"
      ],
      "execution_count": 2,
      "outputs": [
        {
          "output_type": "stream",
          "name": "stdout",
          "text": [
            "2         C#\n",
            "1         VB\n",
            "4        PHP\n",
            "5       HTML\n",
            "6         JS\n",
            "9        CSS\n",
            "3       JAVA\n",
            "8        XML\n",
            "10    Python\n",
            "dtype: object C#\n",
            "2         C#\n",
            "1         VB\n",
            "4        PHP\n",
            "5       HTML\n",
            "6         JS\n",
            "9        CSS\n",
            "3       JAVA\n",
            "8        XML\n",
            "10    Python\n",
            "dtype: object\n",
            "2                           C#\n",
            "1                           VB\n",
            "4                          PHP\n",
            "5                         HTML\n",
            "6                           JS\n",
            "                 ...          \n",
            "1995    Lenguaje Favorito 1995\n",
            "1996    Lenguaje Favorito 1996\n",
            "1997    Lenguaje Favorito 1997\n",
            "1998    Lenguaje Favorito 1998\n",
            "1999    Lenguaje Favorito 1999\n",
            "Length: 1979, dtype: object\n"
          ]
        }
      ]
    },
    {
      "cell_type": "code",
      "metadata": {
        "colab": {
          "base_uri": "https://localhost:8080/",
          "height": 332
        },
        "id": "27aawMp_XVmz",
        "outputId": "7bbfcd3b-8a13-465d-c3b1-5f17bec79ba6"
      },
      "source": [
        "import pandas as pd\n",
        "import matplotlib.pyplot as plt\n",
        "\n",
        "archivo = pd.read_csv(\"/content/notas.csv\", sep=\";\", encoding=\"utf-8\")\n",
        "#print(archivo, archivo[\"nota\"])\n",
        "\n",
        "proceso = pd.crosstab(index=archivo[\"nota\"],columns=\"frecuencia\")\n",
        "#print(proceso)\n",
        "\n",
        "sobresalientes = proceso.loc[proceso.index>9][\"frecuencia\"].sum()\n",
        "print(sobresalientes)\n",
        "\n",
        "plt.pie(proceso, labels=proceso.index)\n",
        "plt.xlabel(\"Estudiantes sobresalientes\")\n",
        "plt.show()"
      ],
      "execution_count": 6,
      "outputs": [
        {
          "output_type": "stream",
          "name": "stdout",
          "text": [
            "6\n"
          ]
        },
        {
          "output_type": "stream",
          "name": "stderr",
          "text": [
            "/usr/local/lib/python3.7/dist-packages/ipykernel_launcher.py:13: MatplotlibDeprecationWarning: Non-1D inputs to pie() are currently squeeze()d, but this behavior is deprecated since 3.1 and will be removed in 3.3; pass a 1D array instead.\n",
            "  del sys.path[0]\n"
          ]
        },
        {
          "output_type": "display_data",
          "data": {
            "image/png": "[encoded data removed]",
            "text/plain": [
              "<Figure size 432x288 with 1 Axes>"
            ]
          },
          "metadata": {}
        }
      ]
    }
  ]
}