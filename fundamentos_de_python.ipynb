{
  "nbformat": 4,
  "nbformat_minor": 0,
  "metadata": {
    "colab": {
      "name": " fundamentos de python.ipynb",
      "provenance": [],
      "collapsed_sections": [],
      "authorship_tag": "ABX9TyPdtuVHZH9xQDT9GgW4Z4Ce",
      "include_colab_link": true
    },
    "kernelspec": {
      "name": "python3",
      "display_name": "Python 3"
    },
    "language_info": {
      "name": "python"
    },
    "widgets": {
      "application/vnd.jupyter.widget-state+json": {
        "5ffa822c2eaa4c49a6f9c331b7e02f37": {
          "model_module": "@jupyter-widgets/controls",
          "model_name": "HBoxModel",
          "model_module_version": "1.5.0",
          "state": {
            "_view_name": "HBoxView",
            "_dom_classes": [],
            "_model_name": "HBoxModel",
            "_view_module": "@jupyter-widgets/controls",
            "_model_module_version": "1.5.0",
            "_view_count": null,
            "_view_module_version": "1.5.0",
            "box_style": "",
            "layout": "IPY_MODEL_8281e3f423db4127b7a662cdde8e9862",
            "_model_module": "@jupyter-widgets/controls",
            "children": [
              "IPY_MODEL_ca6614fe636a4837a9921c40035b3eaf",
              "IPY_MODEL_3f0f53c2810b4952914f707fd64c51b6",
              "IPY_MODEL_5be18efc0a964ee280391f6f0a0c4907"
            ]
          }
        },
        "8281e3f423db4127b7a662cdde8e9862": {
          "model_module": "@jupyter-widgets/base",
          "model_name": "LayoutModel",
          "model_module_version": "1.2.0",
          "state": {
            "_view_name": "LayoutView",
            "grid_template_rows": null,
            "right": null,
            "justify_content": null,
            "_view_module": "@jupyter-widgets/base",
            "overflow": null,
            "_model_module_version": "1.2.0",
            "_view_count": null,
            "flex_flow": null,
            "width": null,
            "min_width": null,
            "border": null,
            "align_items": null,
            "bottom": null,
            "_model_module": "@jupyter-widgets/base",
            "top": null,
            "grid_column": null,
            "overflow_y": null,
            "overflow_x": null,
            "grid_auto_flow": null,
            "grid_area": null,
            "grid_template_columns": null,
            "flex": null,
            "_model_name": "LayoutModel",
            "justify_items": null,
            "grid_row": null,
            "max_height": null,
            "align_content": null,
            "visibility": null,
            "align_self": null,
            "height": null,
            "min_height": null,
            "padding": null,
            "grid_auto_rows": null,
            "grid_gap": null,
            "max_width": null,
            "order": null,
            "_view_module_version": "1.2.0",
            "grid_template_areas": null,
            "object_position": null,
            "object_fit": null,
            "grid_auto_columns": null,
            "margin": null,
            "display": null,
            "left": null
          }
        },
        "ca6614fe636a4837a9921c40035b3eaf": {
          "model_module": "@jupyter-widgets/controls",
          "model_name": "HTMLModel",
          "model_module_version": "1.5.0",
          "state": {
            "_view_name": "HTMLView",
            "style": "IPY_MODEL_6142fab35d06464bba557ac62a4c3c6d",
            "_dom_classes": [],
            "description": "",
            "_model_name": "HTMLModel",
            "placeholder": "​",
            "_view_module": "@jupyter-widgets/controls",
            "_model_module_version": "1.5.0",
            "value": "Dl Completed...: 100%",
            "_view_count": null,
            "_view_module_version": "1.5.0",
            "description_tooltip": null,
            "_model_module": "@jupyter-widgets/controls",
            "layout": "IPY_MODEL_21659b491f344cb6bdc0f36fc0d192ca"
          }
        },
        "3f0f53c2810b4952914f707fd64c51b6": {
          "model_module": "@jupyter-widgets/controls",
          "model_name": "FloatProgressModel",
          "model_module_version": "1.5.0",
          "state": {
            "_view_name": "ProgressView",
            "style": "IPY_MODEL_ed6099b5b5a742c7aab5a5260af15901",
            "_dom_classes": [],
            "description": "",
            "_model_name": "FloatProgressModel",
            "bar_style": "success",
            "max": 4,
            "_view_module": "@jupyter-widgets/controls",
            "_model_module_version": "1.5.0",
            "value": 4,
            "_view_count": null,
            "_view_module_version": "1.5.0",
            "orientation": "horizontal",
            "min": 0,
            "description_tooltip": null,
            "_model_module": "@jupyter-widgets/controls",
            "layout": "IPY_MODEL_dacda2b0685844eb8f3c0a817f25ec55"
          }
        },
        "5be18efc0a964ee280391f6f0a0c4907": {
          "model_module": "@jupyter-widgets/controls",
          "model_name": "HTMLModel",
          "model_module_version": "1.5.0",
          "state": {
            "_view_name": "HTMLView",
            "style": "IPY_MODEL_c2135195232a41b69232d095f2e1016f",
            "_dom_classes": [],
            "description": "",
            "_model_name": "HTMLModel",
            "placeholder": "​",
            "_view_module": "@jupyter-widgets/controls",
            "_model_module_version": "1.5.0",
            "value": " 4/4 [00:00&lt;00:00,  8.70 file/s]",
            "_view_count": null,
            "_view_module_version": "1.5.0",
            "description_tooltip": null,
            "_model_module": "@jupyter-widgets/controls",
            "layout": "IPY_MODEL_015f864c13924b02b34f79dd51732336"
          }
        },
        "6142fab35d06464bba557ac62a4c3c6d": {
          "model_module": "@jupyter-widgets/controls",
          "model_name": "DescriptionStyleModel",
          "model_module_version": "1.5.0",
          "state": {
            "_view_name": "StyleView",
            "_model_name": "DescriptionStyleModel",
            "description_width": "",
            "_view_module": "@jupyter-widgets/base",
            "_model_module_version": "1.5.0",
            "_view_count": null,
            "_view_module_version": "1.2.0",
            "_model_module": "@jupyter-widgets/controls"
          }
        },
        "21659b491f344cb6bdc0f36fc0d192ca": {
          "model_module": "@jupyter-widgets/base",
          "model_name": "LayoutModel",
          "model_module_version": "1.2.0",
          "state": {
            "_view_name": "LayoutView",
            "grid_template_rows": null,
            "right": null,
            "justify_content": null,
            "_view_module": "@jupyter-widgets/base",
            "overflow": null,
            "_model_module_version": "1.2.0",
            "_view_count": null,
            "flex_flow": null,
            "width": null,
            "min_width": null,
            "border": null,
            "align_items": null,
            "bottom": null,
            "_model_module": "@jupyter-widgets/base",
            "top": null,
            "grid_column": null,
            "overflow_y": null,
            "overflow_x": null,
            "grid_auto_flow": null,
            "grid_area": null,
            "grid_template_columns": null,
            "flex": null,
            "_model_name": "LayoutModel",
            "justify_items": null,
            "grid_row": null,
            "max_height": null,
            "align_content": null,
            "visibility": null,
            "align_self": null,
            "height": null,
            "min_height": null,
            "padding": null,
            "grid_auto_rows": null,
            "grid_gap": null,
            "max_width": null,
            "order": null,
            "_view_module_version": "1.2.0",
            "grid_template_areas": null,
            "object_position": null,
            "object_fit": null,
            "grid_auto_columns": null,
            "margin": null,
            "display": null,
            "left": null
          }
        },
        "ed6099b5b5a742c7aab5a5260af15901": {
          "model_module": "@jupyter-widgets/controls",
          "model_name": "ProgressStyleModel",
          "model_module_version": "1.5.0",
          "state": {
            "_view_name": "StyleView",
            "_model_name": "ProgressStyleModel",
            "description_width": "",
            "_view_module": "@jupyter-widgets/base",
            "_model_module_version": "1.5.0",
            "_view_count": null,
            "_view_module_version": "1.2.0",
            "bar_color": null,
            "_model_module": "@jupyter-widgets/controls"
          }
        },
        "dacda2b0685844eb8f3c0a817f25ec55": {
          "model_module": "@jupyter-widgets/base",
          "model_name": "LayoutModel",
          "model_module_version": "1.2.0",
          "state": {
            "_view_name": "LayoutView",
            "grid_template_rows": null,
            "right": null,
            "justify_content": null,
            "_view_module": "@jupyter-widgets/base",
            "overflow": null,
            "_model_module_version": "1.2.0",
            "_view_count": null,
            "flex_flow": null,
            "width": null,
            "min_width": null,
            "border": null,
            "align_items": null,
            "bottom": null,
            "_model_module": "@jupyter-widgets/base",
            "top": null,
            "grid_column": null,
            "overflow_y": null,
            "overflow_x": null,
            "grid_auto_flow": null,
            "grid_area": null,
            "grid_template_columns": null,
            "flex": null,
            "_model_name": "LayoutModel",
            "justify_items": null,
            "grid_row": null,
            "max_height": null,
            "align_content": null,
            "visibility": null,
            "align_self": null,
            "height": null,
            "min_height": null,
            "padding": null,
            "grid_auto_rows": null,
            "grid_gap": null,
            "max_width": null,
            "order": null,
            "_view_module_version": "1.2.0",
            "grid_template_areas": null,
            "object_position": null,
            "object_fit": null,
            "grid_auto_columns": null,
            "margin": null,
            "display": null,
            "left": null
          }
        },
        "c2135195232a41b69232d095f2e1016f": {
          "model_module": "@jupyter-widgets/controls",
          "model_name": "DescriptionStyleModel",
          "model_module_version": "1.5.0",
          "state": {
            "_view_name": "StyleView",
            "_model_name": "DescriptionStyleModel",
            "description_width": "",
            "_view_module": "@jupyter-widgets/base",
            "_model_module_version": "1.5.0",
            "_view_count": null,
            "_view_module_version": "1.2.0",
            "_model_module": "@jupyter-widgets/controls"
          }
        },
        "015f864c13924b02b34f79dd51732336": {
          "model_module": "@jupyter-widgets/base",
          "model_name": "LayoutModel",
          "model_module_version": "1.2.0",
          "state": {
            "_view_name": "LayoutView",
            "grid_template_rows": null,
            "right": null,
            "justify_content": null,
            "_view_module": "@jupyter-widgets/base",
            "overflow": null,
            "_model_module_version": "1.2.0",
            "_view_count": null,
            "flex_flow": null,
            "width": null,
            "min_width": null,
            "border": null,
            "align_items": null,
            "bottom": null,
            "_model_module": "@jupyter-widgets/base",
            "top": null,
            "grid_column": null,
            "overflow_y": null,
            "overflow_x": null,
            "grid_auto_flow": null,
            "grid_area": null,
            "grid_template_columns": null,
            "flex": null,
            "_model_name": "LayoutModel",
            "justify_items": null,
            "grid_row": null,
            "max_height": null,
            "align_content": null,
            "visibility": null,
            "align_self": null,
            "height": null,
            "min_height": null,
            "padding": null,
            "grid_auto_rows": null,
            "grid_gap": null,
            "max_width": null,
            "order": null,
            "_view_module_version": "1.2.0",
            "grid_template_areas": null,
            "object_position": null,
            "object_fit": null,
            "grid_auto_columns": null,
            "margin": null,
            "display": null,
            "left": null
          }
        }
      }
    }
  },
  "cells": [
    {
      "cell_type": "markdown",
      "metadata": {
        "id": "view-in-github",
        "colab_type": "text"
      },
      "source": [
        "<a href=\"https://colab.research.google.com/github/CesiaFlores09/PROGRAMACION-III/blob/master/fundamentos_de_python.ipynb\" target=\"_parent\"><img src=\"https://colab.research.google.com/assets/colab-badge.svg\" alt=\"Open In Colab\"/></a>"
      ]
    },
    {
      "cell_type": "code",
      "metadata": {
        "id": "V0BF8f7eXXX_",
        "colab": {
          "base_uri": "https://localhost:8080/"
        },
        "outputId": "5fcfbf00-b3d9-46f7-dcb6-70db7e4057b4"
      },
      "source": [
        "print(\"Hola mundo\", \"Bienvenidos a progra III con python\", \"Hola chicos\")"
      ],
      "execution_count": null,
      "outputs": [
        {
          "output_type": "stream",
          "text": [
            "Hola mundo Bienvenidos a progra III con python Hola chicos\n"
          ],
          "name": "stdout"
        }
      ]
    },
    {
      "cell_type": "code",
      "metadata": {
        "colab": {
          "base_uri": "https://localhost:8080/"
        },
        "id": "9cH1ELkzeYFX",
        "outputId": "12f0feab-f063-4dfb-b01b-ebefd2f68508"
      },
      "source": [
        "Saludo = \"Hola\"\n",
        "print(Saludo + \"Mundo\")\n",
        "print(Saludo[1])"
      ],
      "execution_count": null,
      "outputs": [
        {
          "output_type": "stream",
          "text": [
            "HolaMundo\n",
            "o\n"
          ],
          "name": "stdout"
        }
      ]
    },
    {
      "cell_type": "code",
      "metadata": {
        "colab": {
          "base_uri": "https://localhost:8080/"
        },
        "id": "ThkQST3Ne6qL",
        "outputId": "f04640a8-84c7-4f7a-a210-19d95b88fe7a"
      },
      "source": [
        "nombre = input(\"Como te llamas: \")\n",
        "print(\"Hola \"+nombre, \"Tu letra inicial es: \", nombre[0], \"Tu nombre tiene: \", nombre.__len__(), \" caracteres\" )"
      ],
      "execution_count": null,
      "outputs": [
        {
          "output_type": "stream",
          "text": [
            "Como te llamas: Cesia\n",
            "Hola Cesia Tu letra inicial es:  C Tu nombre tiene:  5  caracteres\n"
          ],
          "name": "stdout"
        }
      ]
    },
    {
      "cell_type": "code",
      "metadata": {
        "colab": {
          "base_uri": "https://localhost:8080/"
        },
        "id": "mlxA7ztngC0D",
        "outputId": "7a906229-0e6d-4c9e-c9be-aef9ec6e067c"
      },
      "source": [
        "num1=5\n",
        "num2=6\n",
        "resp = num1 + num2\n",
        "print(\"La suma es : \", resp)"
      ],
      "execution_count": null,
      "outputs": [
        {
          "output_type": "stream",
          "text": [
            "La suma es :  11\n"
          ],
          "name": "stdout"
        }
      ]
    },
    {
      "cell_type": "code",
      "metadata": {
        "colab": {
          "base_uri": "https://localhost:8080/"
        },
        "id": "alRgXY_whn-3",
        "outputId": "ac03b7d2-38fe-41d2-d8ef-a657a4583d1f"
      },
      "source": [
        "num1= input(\"Num1: \")\n",
        "num2= input (\"Num2: \")\n",
        "resp = float(num1) + float(num2)\n",
        "print(\"La suma es : \", resp)"
      ],
      "execution_count": null,
      "outputs": [
        {
          "output_type": "stream",
          "text": [
            "Num1: 10\n",
            "Num2: 15\n",
            "La suma es :  25.0\n"
          ],
          "name": "stdout"
        }
      ]
    },
    {
      "cell_type": "code",
      "metadata": {
        "colab": {
          "base_uri": "https://localhost:8080/"
        },
        "id": "oIf1FLjiiTZ8",
        "outputId": "140a892e-9925-49bf-90dc-db52fda489b4"
      },
      "source": [
        "num1= input(\"Num1: \")\n",
        "num1= float(num1)\n",
        "num2= float(input(\"Num2: \"))\n",
        "resp = num1 + num2\n",
        "print(\"La suma es : \", resp)"
      ],
      "execution_count": null,
      "outputs": [
        {
          "output_type": "stream",
          "text": [
            "Num1: 13\n",
            "Num2: 45\n",
            "La suma es :  58.0\n"
          ],
          "name": "stdout"
        }
      ]
    },
    {
      "cell_type": "code",
      "metadata": {
        "colab": {
          "base_uri": "https://localhost:8080/"
        },
        "id": "gJvtFkjviwyi",
        "outputId": "d686ce6b-4eb9-4caf-c3d6-086b15bb8013"
      },
      "source": [
        "print(\"Hola nuevamente\", nombre)"
      ],
      "execution_count": null,
      "outputs": [
        {
          "output_type": "stream",
          "text": [
            "Hola nuevamente Cesia\n"
          ],
          "name": "stdout"
        }
      ]
    },
    {
      "cell_type": "code",
      "metadata": {
        "colab": {
          "base_uri": "https://localhost:8080/"
        },
        "id": "u1MmhKOIi6c7",
        "outputId": "22d9e788-8ff3-48ec-ae3f-46e1445fec52"
      },
      "source": [
        "gustapython = True\n",
        "print(\"hola \", nombre, \" te gusta python \", gustapython)"
      ],
      "execution_count": null,
      "outputs": [
        {
          "output_type": "stream",
          "text": [
            "hola  Cesia  te gusta python  True\n"
          ],
          "name": "stdout"
        }
      ]
    },
    {
      "cell_type": "code",
      "metadata": {
        "colab": {
          "base_uri": "https://localhost:8080/"
        },
        "id": "KcQwMWZtjnej",
        "outputId": "df8f0309-7f7e-4a90-bb2e-f0debaf77f0c"
      },
      "source": [
        "print( \"nombre: \", type(nombre), \"num1: \",type(num1), \"num2: \", type(num2), \"resp: \", type(resp), \"gustapython: \", type(gustapython), \"1\", type(1))"
      ],
      "execution_count": null,
      "outputs": [
        {
          "output_type": "stream",
          "text": [
            "nombre:  <class 'str'> num1:  <class 'float'> num2:  <class 'float'> resp:  <class 'float'> gustapython:  <class 'bool'> 1 <class 'int'>\n"
          ],
          "name": "stdout"
        }
      ]
    },
    {
      "cell_type": "code",
      "metadata": {
        "colab": {
          "base_uri": "https://localhost:8080/"
        },
        "id": "ls4vdN8MkdZS",
        "outputId": "a19f847a-61c6-454f-e6e6-8dc347cb4768"
      },
      "source": [
        "print(\"resp: \"+ str(resp))"
      ],
      "execution_count": null,
      "outputs": [
        {
          "output_type": "stream",
          "text": [
            "resp: 58.0\n"
          ],
          "name": "stdout"
        }
      ]
    },
    {
      "cell_type": "code",
      "metadata": {
        "colab": {
          "base_uri": "https://localhost:8080/"
        },
        "id": "ULiofxw5kqgr",
        "outputId": "53955244-b793-495f-8895-5c470173357b"
      },
      "source": [
        "def suma(num1, num2):\n",
        " resp= num1 + num2\n",
        " return resp\n",
        "num1 = float(input(\"Num1: \"))\n",
        "num2 = float(input(\"Num2: \"))\n",
        "resp= suma(num1, num2)\n",
        "print(resp)"
      ],
      "execution_count": null,
      "outputs": [
        {
          "output_type": "stream",
          "text": [
            "Num1: 14.4\n",
            "Num2: 16.9\n",
            "31.299999999999997\n"
          ],
          "name": "stdout"
        }
      ]
    },
    {
      "cell_type": "code",
      "metadata": {
        "id": "KEuHkl8LovQl"
      },
      "source": [
        "def convertirFC(f):\n",
        "  c = (f-32)*5/9\n",
        "  return c\n",
        "\n",
        "f = float(input(\"F: \"))\n",
        "print(\"F: \", str(f), \" a celsius: \", str( convertirFC(f) ))"
      ],
      "execution_count": null,
      "outputs": []
    },
    {
      "cell_type": "code",
      "metadata": {
        "id": "3XDYsBqWowry"
      },
      "source": [
        "num1 = int(input(\"Num1: \"))\n",
        "num2 = int(input(\"Num2: \"))\n",
        "print(\"Los numero\", str(num1), \",\", str(num2), \" son iguales: \", str(num1==num2) )"
      ],
      "execution_count": null,
      "outputs": []
    },
    {
      "cell_type": "code",
      "metadata": {
        "id": "9p78bn4Qo5pG"
      },
      "source": [
        "numHrs = int(input(\"Num. de Hrs trabajadas: \"))\n",
        "valorHr = float(input(\"Valor por hr: \"))\n",
        "\n",
        "sueldo = numHrs*valorHr*30\n",
        "print(\"Sueldo: \", sueldo)"
      ],
      "execution_count": null,
      "outputs": []
    },
    {
      "cell_type": "code",
      "metadata": {
        "id": "0xDgfqUpo8dq"
      },
      "source": [
        "def calcularSueldo(numHrs, valorHr):\n",
        "  hrsExtras = 0\n",
        "  if( numHrs>8 ):\n",
        "    hrsExtras = numHrs-8\n",
        "  sueldo = (8*valorHr + hrsExtras*valorHr*2)*30\n",
        "  return sueldo\n",
        "\n",
        "numHrs = int(input(\"Num. hrs trabajadas: \"))\n",
        "valorHr = float(input(\"Valor x hr: \"))\n",
        "print(\"Sueldo: \", str(calcularSueldo(numHrs, valorHr)))"
      ],
      "execution_count": null,
      "outputs": []
    },
    {
      "cell_type": "code",
      "metadata": {
        "colab": {
          "base_uri": "https://localhost:8080/"
        },
        "id": "KXk3LoJufFBW",
        "outputId": "8c7513f3-7425-4dee-912f-11fb969dfeae"
      },
      "source": [
        "suma = lambda num1, num2: num1+num2\n",
        "num1 = float(input(\"Ingrese el numero 1: \"))\n",
        "num2 = float(input(\"Ingrese el numero 2: \"))\n",
        "print(\"La suma es: \", suma(num1, num2))"
      ],
      "execution_count": null,
      "outputs": [
        {
          "output_type": "stream",
          "text": [
            "Ingrese el numero 1: 5\n",
            "Ingrese el numero 2: 6\n",
            "La suma es:  11.0\n"
          ],
          "name": "stdout"
        }
      ]
    },
    {
      "cell_type": "code",
      "metadata": {
        "colab": {
          "base_uri": "https://localhost:8080/"
        },
        "id": "LMjs73HYftQt",
        "outputId": "772d26f9-5d7e-42ae-ceb8-3db753e458f5"
      },
      "source": [
        "conversion = lambda f:(f-32)*5/9\n",
        "f = float(input(\"Grados Fahrenheit: \"))\n",
        "print(\"Grados Fahrenheit: \", f, \"a Grados Celsius: \", conversion(f))"
      ],
      "execution_count": null,
      "outputs": [
        {
          "output_type": "stream",
          "text": [
            "Grados Fahrenheit: 105.5\n",
            "Grados Fahrenheit:  105.5 a Grados Celsius:  40.833333333333336\n"
          ],
          "name": "stdout"
        }
      ]
    },
    {
      "cell_type": "code",
      "metadata": {
        "colab": {
          "base_uri": "https://localhost:8080/"
        },
        "id": "VFbZrgbbgbkK",
        "outputId": "3116f5ed-eca3-409a-b643-e596ea8fd1aa"
      },
      "source": [
        "cuadrado = lambda n:n**2\n",
        "n = int(input(\"N: \"))\n",
        "print(\"N: \", n, \"al cuadrado es: \", cuadrado(n) )"
      ],
      "execution_count": null,
      "outputs": [
        {
          "output_type": "stream",
          "text": [
            "N: 3\n",
            "N:  3 al cuadrado es:  9\n"
          ],
          "name": "stdout"
        }
      ]
    },
    {
      "cell_type": "code",
      "metadata": {
        "colab": {
          "base_uri": "https://localhost:8080/"
        },
        "id": "yAeknOg8hKoO",
        "outputId": "b506d959-b7d8-4449-91a3-2eefd17eacf6"
      },
      "source": [
        "cubo = lambda n:n**3\n",
        "n = int(input(\"N: \"))\n",
        "print(\"N: \", n, \"al cubo es: \", cubo(n) )"
      ],
      "execution_count": null,
      "outputs": [
        {
          "output_type": "stream",
          "text": [
            "N: 3\n",
            "N:  3 al cubo es:  27\n"
          ],
          "name": "stdout"
        }
      ]
    },
    {
      "cell_type": "code",
      "metadata": {
        "colab": {
          "base_uri": "https://localhost:8080/"
        },
        "id": "UJGvpikWhZWe",
        "outputId": "66da9c10-f006-4adb-cd54-46df29fd99c4"
      },
      "source": [
        "exp = lambda n,e:n**e\n",
        "n = int(input(\"N: \"))\n",
        "e = int(input(\"Exponente: \"))\n",
        "print(n, \" elevado al exp\", e, \"es: \", exp(n,e) )"
      ],
      "execution_count": null,
      "outputs": [
        {
          "output_type": "stream",
          "text": [
            "N: 3\n",
            "Exponente: 2\n",
            "3  elevado al exp 2 es:  9\n"
          ],
          "name": "stdout"
        }
      ]
    },
    {
      "cell_type": "code",
      "metadata": {
        "colab": {
          "base_uri": "https://localhost:8080/"
        },
        "id": "qLf-NY6Wh408",
        "outputId": "c0d363b8-e2cc-4137-fec8-a887a4de6806"
      },
      "source": [
        "lista = [5,7,10,2,1]\n",
        "resp = list(map(lambda n:n*2, lista))\n",
        "print(resp)"
      ],
      "execution_count": null,
      "outputs": [
        {
          "output_type": "stream",
          "text": [
            "[10, 14, 20, 4, 2]\n"
          ],
          "name": "stdout"
        }
      ]
    },
    {
      "cell_type": "code",
      "metadata": {
        "colab": {
          "base_uri": "https://localhost:8080/"
        },
        "id": "xQx1Juv7iUjt",
        "outputId": "fb3c634b-f533-4844-efc1-13cfe1dc2c53"
      },
      "source": [
        "gfdepto = [85,58,105]\n",
        "cdepto = list(map(conversion, gfdepto))\n",
        "print(\"Los grados F: \", gfdepto, \"en Celsius es: \", cdepto)"
      ],
      "execution_count": null,
      "outputs": [
        {
          "output_type": "stream",
          "text": [
            "Los grados F:  [85, 58, 105] en Celsius es:  [29.444444444444443, 14.444444444444445, 40.55555555555556]\n"
          ],
          "name": "stdout"
        }
      ]
    },
    {
      "cell_type": "code",
      "metadata": {
        "colab": {
          "base_uri": "https://localhost:8080/"
        },
        "id": "eKr4QWm1j_p2",
        "outputId": "f829e470-b099-48ab-818d-2c19c5d7884e"
      },
      "source": [
        "resp=list(map(cuadrado, lista))\n",
        "print(\"La lista \", lista, \"el cuadrado es: \", resp)"
      ],
      "execution_count": null,
      "outputs": [
        {
          "output_type": "stream",
          "text": [
            "La lista  [5, 7, 10, 2, 1] el cuadrado es:  [25, 49, 100, 4, 1]\n"
          ],
          "name": "stdout"
        }
      ]
    },
    {
      "cell_type": "code",
      "metadata": {
        "colab": {
          "base_uri": "https://localhost:8080/"
        },
        "id": "81vLKuJwkWOV",
        "outputId": "5f9b2936-d7cb-4087-f4ba-8801d41caac7"
      },
      "source": [
        "resp=list(map(cubo, lista))\n",
        "print(\"La lista \", lista, \"el cubo es: \", resp)"
      ],
      "execution_count": null,
      "outputs": [
        {
          "output_type": "stream",
          "text": [
            "La lista  [5, 7, 10, 2, 1] el cubo es:  [125, 343, 1000, 8, 1]\n"
          ],
          "name": "stdout"
        }
      ]
    },
    {
      "cell_type": "code",
      "metadata": {
        "colab": {
          "base_uri": "https://localhost:8080/"
        },
        "id": "RpeyfVOike0A",
        "outputId": "ef212ec9-ba11-4be0-fb6c-47edc19a8752"
      },
      "source": [
        "resp = list(filter(lambda n:n<=2,lista))\n",
        "print(\"Los numeros <= 2 de la lista \", lista, \"son: \", resp)"
      ],
      "execution_count": null,
      "outputs": [
        {
          "output_type": "stream",
          "text": [
            "Los numeros <= 2 de la lista  [5, 7, 10, 2, 1] son:  [2, 1]\n"
          ],
          "name": "stdout"
        }
      ]
    },
    {
      "cell_type": "code",
      "metadata": {
        "colab": {
          "base_uri": "https://localhost:8080/"
        },
        "id": "nxy6EY-8lGJO",
        "outputId": "a2fea434-c785-4ce4-b7ef-9ff1677155ac"
      },
      "source": [
        "resp = list(filter(lambda n:n%2==0, lista))\n",
        "print(\"Los numeros pares de la lista : \", lista, \"son: \", resp )"
      ],
      "execution_count": null,
      "outputs": [
        {
          "output_type": "stream",
          "text": [
            "Los numeros pares de la lista :  [5, 7, 10, 2, 1] son:  [10, 2]\n"
          ],
          "name": "stdout"
        }
      ]
    },
    {
      "cell_type": "code",
      "metadata": {
        "colab": {
          "base_uri": "https://localhost:8080/"
        },
        "id": "PvQRuisblknO",
        "outputId": "3f76b99f-e261-4093-e584-dc07b49e2413"
      },
      "source": [
        "resp = list(filter(lambda n:n%2!=0, lista))\n",
        "print(\"Los numeros impares de la lista : \", lista, \"son: \", resp )"
      ],
      "execution_count": null,
      "outputs": [
        {
          "output_type": "stream",
          "text": [
            "Los numeros impares de la lista :  [5, 7, 10, 2, 1] son:  [5, 7, 1]\n"
          ],
          "name": "stdout"
        }
      ]
    },
    {
      "cell_type": "code",
      "metadata": {
        "colab": {
          "base_uri": "https://localhost:8080/"
        },
        "id": "KTDjCJSdl1QZ",
        "outputId": "6f97fbe3-dfd0-4262-94e3-b422ceaf398e"
      },
      "source": [
        "from functools import reduce\n",
        "resp = reduce(lambda x,y:x+y, lista)\n",
        "print(\"La suma de la lsita \", lista,\"es: \", resp, \"la media es: \", resp/len(lista))"
      ],
      "execution_count": null,
      "outputs": [
        {
          "output_type": "stream",
          "text": [
            "La suma de la lsita  [5, 7, 10, 2, 1] es:  25 la media es:  5.0\n"
          ],
          "name": "stdout"
        }
      ]
    },
    {
      "cell_type": "code",
      "metadata": {
        "colab": {
          "base_uri": "https://localhost:8080/"
        },
        "id": "gZyNf-gt-m76",
        "outputId": "d0ea5ca7-bc8a-44b4-eeea-7b989ad11681"
      },
      "source": [
        "persona = \"USIS002020\", \"Cesia Flores\", \"Zacatecoluca\", \"3421-2345\", \"florescsia@gmail.com\"\n",
        "print(persona)"
      ],
      "execution_count": null,
      "outputs": [
        {
          "output_type": "stream",
          "text": [
            "('USIS002020', 'Cesia Flores', 'Zacatecoluca', '3421-2345', 'florescsia@gmail.com')\n"
          ],
          "name": "stdout"
        }
      ]
    },
    {
      "cell_type": "code",
      "metadata": {
        "colab": {
          "base_uri": "https://localhost:8080/"
        },
        "id": "efRAmfI6_lDI",
        "outputId": "136793db-dcaf-4e6c-ffae-03c18310d7b0"
      },
      "source": [
        "nombre= \"Cesia Flores\"\n",
        "print(nombre[0:5], nombre.count(\"e\"))"
      ],
      "execution_count": null,
      "outputs": [
        {
          "output_type": "stream",
          "text": [
            "Cesia 2\n"
          ],
          "name": "stdout"
        }
      ]
    },
    {
      "cell_type": "code",
      "metadata": {
        "colab": {
          "base_uri": "https://localhost:8080/"
        },
        "id": "Ge9LBq8E__nq",
        "outputId": "e55d44fc-8226-41a6-e60b-2cfbd51951d0"
      },
      "source": [
        "name= [\"C\", \"E\", \"S\", \"I\", \"A\", \"F\", \"L\", \"O\", \"R\", \"E\", \"S\"]\n",
        "print(name, name[0:5], name.count(\"E\"), name.index(\"E\"))"
      ],
      "execution_count": null,
      "outputs": [
        {
          "output_type": "stream",
          "text": [
            "['C', 'E', 'S', 'I', 'A', 'F', 'L', 'O', 'R', 'E', 'S'] ['C', 'E', 'S', 'I', 'A'] 2 1\n"
          ],
          "name": "stdout"
        }
      ]
    },
    {
      "cell_type": "code",
      "metadata": {
        "colab": {
          "base_uri": "https://localhost:8080/"
        },
        "id": "OkAS6d_RA5H8",
        "outputId": "4d1c5bfe-7428-456b-8cba-8523aa34fcca"
      },
      "source": [
        "person= [\"USIS002020\", \"Cesia Flores\", \"Direccion: Zacatecoluca\", \"3421-2345\", \"florescsia@gmail.com\", 34, 78.8]\n",
        "print(person)\n",
        "person.append(\"python\")\n",
        "person.insert(2, \"Depto: La paz\")\n",
        "person[6]=7.8\n",
        "leng= person.pop()\n",
        "print(person, leng)"
      ],
      "execution_count": null,
      "outputs": [
        {
          "output_type": "stream",
          "text": [
            "['USIS002020', 'Cesia Flores', 'Direccion: Zacatecoluca', '3421-2345', 'florescsia@gmail.com', 34, 78.8]\n",
            "['USIS002020', 'Cesia Flores', 'Depto: La paz', 'Direccion: Zacatecoluca', '3421-2345', 'florescsia@gmail.com', 7.8, 78.8] python\n"
          ],
          "name": "stdout"
        }
      ]
    },
    {
      "cell_type": "code",
      "metadata": {
        "colab": {
          "base_uri": "https://localhost:8080/"
        },
        "id": "e6fOtppIByaW",
        "outputId": "2e9426ac-4974-4eeb-bf0b-0cd6579d09f1"
      },
      "source": [
        "nEnteros= [2,6,7,8,9]\n",
        "nOrdenados=sorted(nEnteros, reverse=True)\n",
        "numReverse=list(reversed(nEnteros))\n",
        "print(\"Lista desordenada: \", nEnteros, \"Lista Ordenada: \", nOrdenados, \"numeros al reves: \", numReverse)"
      ],
      "execution_count": null,
      "outputs": [
        {
          "output_type": "stream",
          "text": [
            "Lista desordenada:  [2, 6, 7, 8, 9] Lista Ordenada:  [9, 8, 7, 6, 2] numeros al reves:  [9, 8, 7, 6, 2]\n"
          ],
          "name": "stdout"
        }
      ]
    },
    {
      "cell_type": "code",
      "metadata": {
        "colab": {
          "base_uri": "https://localhost:8080/"
        },
        "id": "00nbhkpnvyDk",
        "outputId": "32fdb0ba-373e-4909-8fcd-4aa6f9017416"
      },
      "source": [
        "me=[\"USIS002020\", \"Cesia Flores\", \"Zacatecoluca\",503,\"7034-7835\",\"usis00202@ugb.edu.sv\",[\"Progra I\", \"Progra II\",[6,8,9,4], \"Progra III\"]]\n",
        "print( me[0][0:4], me[6][2][2], me[6][2][0])"
      ],
      "execution_count": null,
      "outputs": [
        {
          "output_type": "stream",
          "text": [
            "USIS 9 6\n"
          ],
          "name": "stdout"
        }
      ]
    },
    {
      "cell_type": "code",
      "metadata": {
        "colab": {
          "base_uri": "https://localhost:8080/"
        },
        "id": "Akfzi8cQw7qW",
        "outputId": "a8afc3d0-0bd2-4af5-af2c-d72fd224e67d"
      },
      "source": [
        "matriz=[\n",
        "        [1,2,3],\n",
        "        [3,5,6],\n",
        "        [5,7,6]\n",
        "]\n",
        "print(matriz)"
      ],
      "execution_count": null,
      "outputs": [
        {
          "output_type": "stream",
          "text": [
            "[[1, 2, 3], [3, 5, 6], [5, 7, 6]]\n"
          ],
          "name": "stdout"
        }
      ]
    },
    {
      "cell_type": "code",
      "metadata": {
        "colab": {
          "base_uri": "https://localhost:8080/"
        },
        "id": "JjNkCHNqxMYX",
        "outputId": "226dd2d9-6880-449b-9064-fe5025190253"
      },
      "source": [
        "matriz=[\n",
        "        [1,5,3,5],\n",
        "        [3,4,4],\n",
        "        [5,4],\n",
        "        [6,7,8,9,2],\n",
        "        7\n",
        "]\n",
        "print(matriz)\n"
      ],
      "execution_count": null,
      "outputs": [
        {
          "output_type": "stream",
          "text": [
            "[[1, 5, 3, 5], [3, 4, 4], [5, 4], [6, 7, 8, 9, 2], 7]\n"
          ],
          "name": "stdout"
        }
      ]
    },
    {
      "cell_type": "code",
      "metadata": {
        "colab": {
          "base_uri": "https://localhost:8080/"
        },
        "id": "7dNdU2lzydeB",
        "outputId": "fcc8305e-3230-43a8-928c-464bf995c627"
      },
      "source": [
        "lenguajes={\"Progra I\":\"VB\",\"Progra II\":\"JAVA\",\"Progra III\":\"Python\"}\n",
        "print(lenguajes[\"Progra III\"])"
      ],
      "execution_count": null,
      "outputs": [
        {
          "output_type": "stream",
          "text": [
            "Python\n"
          ],
          "name": "stdout"
        }
      ]
    },
    {
      "cell_type": "code",
      "metadata": {
        "colab": {
          "base_uri": "https://localhost:8080/"
        },
        "id": "OvrTCBFiy5ik",
        "outputId": "962ffb06-7784-4da3-ece6-f999bafb31f3"
      },
      "source": [
        "mi={\n",
        "    \"codigo\":\"USISOO2O20\",\n",
        "    \"nombre\":\"Cesia Flores\",\n",
        "    \"direccion\":{\n",
        "        \"pais\":{\n",
        "            \"codigo\":\"503\",\n",
        "            \"nombre\":\"El Salvador\",\n",
        "            \"codigoiso\":\"sv\",\n",
        "            \"continente\":{\n",
        "                \"nombre\":\"C.A\"\n",
        "                \n",
        "            }\n",
        "        },\n",
        "\n",
        "    \"departamento\":\"La Paz\",\n",
        "    \"municipio\":\"Santiago Nonualco\",\n",
        "    },\n",
        "    \"tels\":{\n",
        "        \"oficiona\":\"2345-689\",\n",
        "        \"casa\":\"2349-0876\",\n",
        "        \"celular\":\"5648-9847\"\n",
        "    }\n",
        "\n",
        "}\n",
        "print(mi[\"codigo\"], mi[\"nombre\"], mi[\"tels\"], mi[\"direccion\"][\"pais\"][\"nombre\"], mi[\"direccion\"][\"departamento\"])"
      ],
      "execution_count": null,
      "outputs": [
        {
          "output_type": "stream",
          "text": [
            "USISOO2O20 Cesia Flores {'oficiona': '2345-689', 'casa': '2349-0876', 'celular': '5648-9847'} El Salvador La Paz\n"
          ],
          "name": "stdout"
        }
      ]
    },
    {
      "cell_type": "code",
      "metadata": {
        "colab": {
          "base_uri": "https://localhost:8080/"
        },
        "id": "5QT7dx3L1Jr0",
        "outputId": "3d746f07-3207-4b48-8d53-7aba228e7e20"
      },
      "source": [
        "copia=mi.copy()\n",
        "print(copia)"
      ],
      "execution_count": null,
      "outputs": [
        {
          "output_type": "stream",
          "text": [
            "{'codigo': 'USISOO2O20', 'nombre': 'Cesia Flores', 'direccion': {'pais': {'codigo': '503', 'nombre': 'El Salvador', 'codigoiso': 'sv', 'continente': {'nombre': 'C.A'}}, 'departamento': 'La Paz', 'municipio': 'Santiago Nonualco'}, 'tels': {'oficiona': '2345-689', 'casa': '2349-0876', 'celular': '5648-9847'}}\n"
          ],
          "name": "stdout"
        }
      ]
    },
    {
      "cell_type": "code",
      "metadata": {
        "colab": {
          "base_uri": "https://localhost:8080/"
        },
        "id": "2PBNXyyx1Shl",
        "outputId": "0cd66b81-9fbb-4b6a-cf68-bd23b66afdda"
      },
      "source": [
        "pais=copia.get(\"direccion\")[\"pais\"][\"nombre\"]\n",
        "print(pais)\n",
        "nombre= mi.get(\"direccion\").get(\"pais\").get(\"codigo\")\n",
        "esqueleto= dict.fromkeys(mi,\"\")\n",
        "print(nombre, esqueleto)"
      ],
      "execution_count": null,
      "outputs": [
        {
          "output_type": "stream",
          "text": [
            "El Salvador\n",
            "503 {'codigo': '', 'nombre': '', 'direccion': '', 'tels': ''}\n"
          ],
          "name": "stdout"
        }
      ]
    },
    {
      "cell_type": "code",
      "metadata": {
        "colab": {
          "base_uri": "https://localhost:8080/"
        },
        "id": "_O4Fdirm2JhG",
        "outputId": "f3c25193-d307-488c-b668-1528b1c19785"
      },
      "source": [
        "items=list(mi.items())\n",
        "print(items)"
      ],
      "execution_count": null,
      "outputs": [
        {
          "output_type": "stream",
          "text": [
            "[('codigo', 'USISOO2O20'), ('nombre', 'Cesia Flores'), ('direccion', {'pais': {'codigo': '503', 'nombre': 'El Salvador', 'codigoiso': 'sv', 'continente': {'nombre': 'C.A'}}, 'departamento': 'La Paz', 'municipio': 'Santiago Nonualco'}), ('tels', {'oficiona': '2345-689', 'casa': '2349-0876', 'celular': '5648-9847'})]\n"
          ],
          "name": "stdout"
        }
      ]
    },
    {
      "cell_type": "code",
      "metadata": {
        "colab": {
          "base_uri": "https://localhost:8080/"
        },
        "id": "yVaqSPqI2Wys",
        "outputId": "ee013d33-0588-499b-f11b-852478b2f5a5"
      },
      "source": [
        "claves=list(mi.keys())\n",
        "print(claves, claves[0])"
      ],
      "execution_count": null,
      "outputs": [
        {
          "output_type": "stream",
          "text": [
            "['codigo', 'nombre', 'direccion', 'tels'] codigo\n"
          ],
          "name": "stdout"
        }
      ]
    },
    {
      "cell_type": "code",
      "metadata": {
        "colab": {
          "base_uri": "https://localhost:8080/"
        },
        "id": "zq7qhd-H3p9F",
        "outputId": "88bd3e53-aaaa-4c68-decb-702da744a570"
      },
      "source": [
        "edad= int(input(\"Ingrese su edad: \"))\n",
        "if edad<2:\n",
        "  print(\"Eres un bebe\")\n",
        "elif edad<12:\n",
        "  print(\"Eres un niño\")\n",
        "elif edad<18:\n",
        "  print(\"Eres un adolescente\")\n",
        "elif edad<=55:\n",
        "  print(\"Eres joven\")\n",
        "elif edad<=65:\n",
        "  print(\"Eres un adulto, un señor\")\n",
        "elif edad<=80:\n",
        "  print(\"Eres un adulto mayor\")\n",
        "elif edad<130:\n",
        "  print(\"Larga vida\")\n",
        "else:\n",
        " print(\"Error en la edad\")\n"
      ],
      "execution_count": null,
      "outputs": [
        {
          "output_type": "stream",
          "text": [
            "Ingrese su edad: 90\n",
            "Larga vida\n"
          ],
          "name": "stdout"
        }
      ]
    },
    {
      "cell_type": "code",
      "metadata": {
        "colab": {
          "base_uri": "https://localhost:8080/"
        },
        "id": "IV9qc8jA46GI",
        "outputId": "4ff531e1-4245-4166-9d39-1b6facb16554"
      },
      "source": [
        "n= int(input(\"Tabla: \"))\n",
        "i=1\n",
        "while i<=10:\n",
        "  print(n,\"X\",i,\"=\",n*i)\n",
        "  i+=1"
      ],
      "execution_count": null,
      "outputs": [
        {
          "output_type": "stream",
          "text": [
            "Tabla: 9\n",
            "9 X 1 = 9\n",
            "9 X 2 = 18\n",
            "9 X 3 = 27\n",
            "9 X 4 = 36\n",
            "9 X 5 = 45\n",
            "9 X 6 = 54\n",
            "9 X 7 = 63\n",
            "9 X 8 = 72\n",
            "9 X 9 = 81\n",
            "9 X 10 = 90\n"
          ],
          "name": "stdout"
        }
      ]
    },
    {
      "cell_type": "code",
      "metadata": {
        "colab": {
          "base_uri": "https://localhost:8080/"
        },
        "id": "ska5Dz7gWtmg",
        "outputId": "070585e2-8725-46ec-f7e5-a35067536761"
      },
      "source": [
        "sueldo = float(input(\"Sueldo: \"))\n",
        "isss = sueldo*0.03\n",
        "afp = sueldo*0.0625\n",
        "sueldoNeto = sueldo - (isss + afp)\n",
        "\n",
        "tablaIsr = [\n",
        "            [0.01,   472.0,   0,   0    ],\n",
        "            [472.01, 895.24,  0.1, 17.67],\n",
        "            [895.25, 2038.10, 0.2, 60   ],\n",
        "            [2038.11, 99999 , 0.3, 288.57]\n",
        "]\n",
        "isr = 0\n",
        "for tramo in tablaIsr:\n",
        "  if sueldoNeto>=tramo[0] and sueldo<=tramo[1]:\n",
        "    isr = (sueldoNeto - tramo[0])*tramo[2] + tramo[3]\n",
        "sueldoNeto -= isr\n",
        "print(sueldo, \"Deducciones: \", (isss + afp + isr), \" Sueldo Neto: \", sueldoNeto)"
      ],
      "execution_count": null,
      "outputs": [
        {
          "output_type": "stream",
          "name": "stdout",
          "text": [
            "Sueldo: 800\n",
            "800.0 Deducciones:  117.069  Sueldo Neto:  682.931\n"
          ]
        }
      ]
    },
    {
      "cell_type": "code",
      "metadata": {
        "colab": {
          "base_uri": "https://localhost:8080/"
        },
        "id": "3T9k1kP_W2Cq",
        "outputId": "29aedc26-9d93-4a83-843b-45e868002127"
      },
      "source": [
        "valores = [\n",
        "           [],\n",
        "           [0, 1, 0.85, 23.8, 35.11, 7.74, 8.75, 621.61], #monedas\n",
        "           [],                                         #Longitud\n",
        "           [],                                         #Masa\n",
        "]\n",
        "etiquetas = [\n",
        "           [],\n",
        "           [\"1. Dolar\", \"2. Euro\", \"3. Lempira\",\"4. Cordobas\", \"5. Quetzalez\", \"6. Colon SV\", \"7. Colon CR\"],\n",
        "           []\n",
        "]\n",
        "def convertir(conversor, de, a, cantidad):\n",
        "  return valores[conversor][a]/valores[conversor][de] * cantidad\n",
        "\n",
        "print(\"*** MENU ***\")\n",
        "print(\"* 1. Monedas\")\n",
        "print(\"* 2. Longitud\")\n",
        "print(\"* 3. Masa\")\n",
        "conversor = int(input(\"Conversor: \"))\n",
        "\n",
        "print( etiquetas[conversor] )\n",
        "\n",
        "de = int(input(\"DE: \"))\n",
        "a = int(input(\"A: \"))\n",
        "cantidad = float(input(\"Cant: \"))\n",
        "\n",
        "print(\"Respuesta: \", convertir(conversor, de, a, cantidad) )"
      ],
      "execution_count": null,
      "outputs": [
        {
          "output_type": "stream",
          "name": "stdout",
          "text": [
            "*** MENU ***\n",
            "* 1. Monedas\n",
            "* 2. Longitud\n",
            "* 3. Masa\n",
            "Conversor: 1\n",
            "['1. Dolar', '2. Euro', '3. Lempira', '4. Cordobas', '5. Quetzalez', '6. Colon SV', '7. Colon CR']\n",
            "DE: 1\n",
            "A: 2\n",
            "Cant: 24\n",
            "Respuesta:  20.4\n"
          ]
        }
      ]
    },
    {
      "cell_type": "code",
      "metadata": {
        "colab": {
          "base_uri": "https://localhost:8080/"
        },
        "id": "Gi2b5qABW6nW",
        "outputId": "d82ebbd6-906a-4b92-e12a-a86a874ac26a"
      },
      "source": [
        "nmeses = int(input(\"MESES: \"))\n",
        "i=0\n",
        "acumulacion = 0\n",
        "while i<=nmeses:\n",
        "  acumulacion += i\n",
        "  i+=1\n",
        "print(\"ACUMULACION \", acumulacion)"
      ],
      "execution_count": null,
      "outputs": [
        {
          "output_type": "stream",
          "name": "stdout",
          "text": [
            "MESES: 21\n",
            "ACUMULACION  231\n"
          ]
        }
      ]
    },
    {
      "cell_type": "code",
      "metadata": {
        "colab": {
          "base_uri": "https://localhost:8080/"
        },
        "id": "ybI8jOJYW-PZ",
        "outputId": "0876d5df-43f1-41cf-9f8e-9f10172e25d9"
      },
      "source": [
        "nmeses = int(input(\"Dime los Meses Acumulado: \"))\n",
        "acumulado = nmeses * (nmeses/2 + 0.5)\n",
        "print(\"ACUMULADO: \", acumulado)"
      ],
      "execution_count": null,
      "outputs": [
        {
          "output_type": "stream",
          "name": "stdout",
          "text": [
            "Dime los Meses Acumulado: 21\n",
            "ACUMULADO:  231.0\n"
          ]
        }
      ]
    },
    {
      "cell_type": "code",
      "metadata": {
        "colab": {
          "base_uri": "https://localhost:8080/"
        },
        "id": "rWZKQ0ccXCcW",
        "outputId": "00226b9a-c65f-4843-dc01-5ad44b611a9b"
      },
      "source": [
        "import pandas as pd\n",
        "leguajes = pd.Series([\n",
        "                      \"C#\",\n",
        "                      \"VB\",\n",
        "                      \"PHP\",\n",
        "                      \"HTML\",\n",
        "                      \"JS\",\n",
        "                      \"CSS\",\n",
        "                      \"JAVA\",\n",
        "                      \"XML\",\n",
        "                      \"Python\"],\n",
        "                     index=[2,1,4,5,6,9,3,8,10])\n",
        "print(leguajes, leguajes[2])\n",
        "\n",
        "diccionarioLenguajes = {\n",
        "    2:\"C#\",\n",
        "    1:\"VB\",\n",
        "    4:\"PHP\",\n",
        "    5:\"HTML\",\n",
        "    6:\"JS\",\n",
        "    9:\"CSS\",\n",
        "    3:\"JAVA\",\n",
        "    8:\"XML\",\n",
        "    10:\"Python\"\n",
        "}\n",
        "pdLenguajes = pd.Series(diccionarioLenguajes)\n",
        "print(pdLenguajes)\n",
        "\n",
        "for i in range(30,2000):\n",
        "  pdLenguajes[i] = \"Lenguaje Favorito \"+ str(i)\n",
        "print(pdLenguajes)"
      ],
      "execution_count": null,
      "outputs": [
        {
          "output_type": "stream",
          "name": "stdout",
          "text": [
            "2         C#\n",
            "1         VB\n",
            "4        PHP\n",
            "5       HTML\n",
            "6         JS\n",
            "9        CSS\n",
            "3       JAVA\n",
            "8        XML\n",
            "10    Python\n",
            "dtype: object C#\n",
            "2         C#\n",
            "1         VB\n",
            "4        PHP\n",
            "5       HTML\n",
            "6         JS\n",
            "9        CSS\n",
            "3       JAVA\n",
            "8        XML\n",
            "10    Python\n",
            "dtype: object\n",
            "2                           C#\n",
            "1                           VB\n",
            "4                          PHP\n",
            "5                         HTML\n",
            "6                           JS\n",
            "                 ...          \n",
            "1995    Lenguaje Favorito 1995\n",
            "1996    Lenguaje Favorito 1996\n",
            "1997    Lenguaje Favorito 1997\n",
            "1998    Lenguaje Favorito 1998\n",
            "1999    Lenguaje Favorito 1999\n",
            "Length: 1979, dtype: object\n"
          ]
        }
      ]
    },
    {
      "cell_type": "code",
      "metadata": {
        "colab": {
          "base_uri": "https://localhost:8080/",
          "height": 332
        },
        "id": "27aawMp_XVmz",
        "outputId": "7bbfcd3b-8a13-465d-c3b1-5f17bec79ba6"
      },
      "source": [
        "import pandas as pd\n",
        "import matplotlib.pyplot as plt\n",
        "\n",
        "archivo = pd.read_csv(\"/content/notas.csv\", sep=\";\", encoding=\"utf-8\")\n",
        "#print(archivo, archivo[\"nota\"])\n",
        "\n",
        "proceso = pd.crosstab(index=archivo[\"nota\"],columns=\"frecuencia\")\n",
        "#print(proceso)\n",
        "\n",
        "sobresalientes = proceso.loc[proceso.index>9][\"frecuencia\"].sum()\n",
        "print(sobresalientes)\n",
        "\n",
        "plt.pie(proceso, labels=proceso.index)\n",
        "plt.xlabel(\"Estudiantes sobresalientes\")\n",
        "plt.show()"
      ],
      "execution_count": null,
      "outputs": [
        {
          "output_type": "stream",
          "name": "stdout",
          "text": [
            "6\n"
          ]
        },
        {
          "output_type": "stream",
          "name": "stderr",
          "text": [
            "/usr/local/lib/python3.7/dist-packages/ipykernel_launcher.py:13: MatplotlibDeprecationWarning: Non-1D inputs to pie() are currently squeeze()d, but this behavior is deprecated since 3.1 and will be removed in 3.3; pass a 1D array instead.\n",
            "  del sys.path[0]\n"
          ]
        },
        {
          "output_type": "display_data",
          "data": {
            "image/png": "[encoded data removed]",
            "text/plain": [
              "<Figure size 432x288 with 1 Axes>"
            ]
          },
          "metadata": {}
        }
      ]
    },
    {
      "cell_type": "markdown",
      "metadata": {
        "id": "tej8ugIccQZl"
      },
      "source": [
        "USO DE TENSORFLOW\n",
        "HOLA MUNDO"
      ]
    },
    {
      "cell_type": "code",
      "metadata": {
        "id": "tSUX7bq3cWns",
        "colab": {
          "base_uri": "https://localhost:8080/"
        },
        "outputId": "bc213a52-b1de-4cc7-91c0-2cc1eb4b85fc"
      },
      "source": [
        "import tensorflow as tf\n",
        "res = tf.add(3,5).numpy()\n",
        "print(res)\n",
        "\n"
      ],
      "execution_count": null,
      "outputs": [
        {
          "output_type": "stream",
          "name": "stdout",
          "text": [
            "8\n"
          ]
        }
      ]
    },
    {
      "cell_type": "code",
      "metadata": {
        "id": "SN2mHaDHiVcJ"
      },
      "source": [
        "import tensorflow as tf\n",
        "import pandas as pd\n",
        "import matplotlib.pyplot as plt\n",
        "import seaborn as sns\n"
      ],
      "execution_count": null,
      "outputs": []
    },
    {
      "cell_type": "code",
      "metadata": {
        "id": "sweeoLUwi0gg",
        "colab": {
          "base_uri": "https://localhost:8080/",
          "height": 334
        },
        "outputId": "c907ed84-9761-48a5-d742-b6c43e2af70c"
      },
      "source": [
        "#obtencion de los datos de entrenamiento\n",
        "temperaturas = pd.read_csv(\"/content/dataset.csv\", sep=\";\")\n",
        "\n",
        "sns.scatterplot(temperaturas[\"celsius\"], temperaturas[\"fahrenheit\"])\n",
        "plt.show()\n",
        "\n"
      ],
      "execution_count": null,
      "outputs": [
        {
          "output_type": "stream",
          "name": "stderr",
          "text": [
            "/usr/local/lib/python3.7/dist-packages/seaborn/_decorators.py:43: FutureWarning: Pass the following variables as keyword args: x, y. From version 0.12, the only valid positional argument will be `data`, and passing other arguments without an explicit keyword will result in an error or misinterpretation.\n",
            "  FutureWarning\n"
          ]
        },
        {
          "output_type": "display_data",
          "data": {
            "image/png": "[encoded data removed]",
            "text/plain": [
              "<Figure size 432x288 with 1 Axes>"
            ]
          },
          "metadata": {
            "needs_background": "light"
          }
        }
      ]
    },
    {
      "cell_type": "code",
      "metadata": {
        "id": "IJBl4m_rlH5k"
      },
      "source": [
        "#datos de entrada y salida\n",
        "celsius = temperaturas[\"celsius\"]\n",
        "fahrenheit = temperaturas['fahrenheit']"
      ],
      "execution_count": null,
      "outputs": []
    },
    {
      "cell_type": "code",
      "metadata": {
        "id": "L_L-lZ8ElssD"
      },
      "source": [
        "#modelo de entrenamiento\n",
        "modelo=tf.keras.Sequential()\n",
        "modelo.add(tf.keras.layers.Dense(units=1, input_shape=[1]))\n"
      ],
      "execution_count": null,
      "outputs": []
    },
    {
      "cell_type": "code",
      "metadata": {
        "id": "HxAEu9pemdKC"
      },
      "source": [
        "#compliar modelo\n",
        "modelo.compile(optimizer=tf.keras.optimizers.Adam(1),loss='mean_squared_error')"
      ],
      "execution_count": null,
      "outputs": []
    },
    {
      "cell_type": "code",
      "metadata": {
        "id": "CUDNKqyxmSQy",
        "colab": {
          "base_uri": "https://localhost:8080/"
        },
        "outputId": "1c9c2259-df93-4139-901f-6bcc04de4ccb"
      },
      "source": [
        "#entrenamiento del modelo\n",
        "epocas = modelo.fit(celsius, fahrenheit, epochs=600,verbose=0)"
      ],
      "execution_count": null,
      "outputs": [
        {
          "output_type": "stream",
          "name": "stdout",
          "text": [
            "Epoch 1/200\n",
            "1/1 [==============================] - 0s 6ms/step - loss: 0.2660\n",
            "Epoch 2/200\n",
            "1/1 [==============================] - 0s 5ms/step - loss: 0.2356\n",
            "Epoch 3/200\n",
            "1/1 [==============================] - 0s 4ms/step - loss: 0.2135\n",
            "Epoch 4/200\n",
            "1/1 [==============================] - 0s 3ms/step - loss: 0.1957\n",
            "Epoch 5/200\n",
            "1/1 [==============================] - 0s 3ms/step - loss: 0.1775\n",
            "Epoch 6/200\n",
            "1/1 [==============================] - 0s 3ms/step - loss: 0.1570\n",
            "Epoch 7/200\n",
            "1/1 [==============================] - 0s 6ms/step - loss: 0.1360\n",
            "Epoch 8/200\n",
            "1/1 [==============================] - 0s 4ms/step - loss: 0.1178\n",
            "Epoch 9/200\n",
            "1/1 [==============================] - 0s 3ms/step - loss: 0.1043\n",
            "Epoch 10/200\n",
            "1/1 [==============================] - 0s 4ms/step - loss: 0.0945\n",
            "Epoch 11/200\n",
            "1/1 [==============================] - 0s 7ms/step - loss: 0.0858\n",
            "Epoch 12/200\n",
            "1/1 [==============================] - 0s 4ms/step - loss: 0.0763\n",
            "Epoch 13/200\n",
            "1/1 [==============================] - 0s 3ms/step - loss: 0.0658\n",
            "Epoch 14/200\n",
            "1/1 [==============================] - 0s 3ms/step - loss: 0.0560\n",
            "Epoch 15/200\n",
            "1/1 [==============================] - 0s 3ms/step - loss: 0.0482\n",
            "Epoch 16/200\n",
            "1/1 [==============================] - 0s 3ms/step - loss: 0.0428\n",
            "Epoch 17/200\n",
            "1/1 [==============================] - 0s 3ms/step - loss: 0.0387\n",
            "Epoch 18/200\n",
            "1/1 [==============================] - 0s 3ms/step - loss: 0.0345\n",
            "Epoch 19/200\n",
            "1/1 [==============================] - 0s 3ms/step - loss: 0.0298\n",
            "Epoch 20/200\n",
            "1/1 [==============================] - 0s 5ms/step - loss: 0.0249\n",
            "Epoch 21/200\n",
            "1/1 [==============================] - 0s 3ms/step - loss: 0.0208\n",
            "Epoch 22/200\n",
            "1/1 [==============================] - 0s 3ms/step - loss: 0.0179\n",
            "Epoch 23/200\n",
            "1/1 [==============================] - 0s 3ms/step - loss: 0.0160\n",
            "Epoch 24/200\n",
            "1/1 [==============================] - 0s 3ms/step - loss: 0.0143\n",
            "Epoch 25/200\n",
            "1/1 [==============================] - 0s 3ms/step - loss: 0.0124\n",
            "Epoch 26/200\n",
            "1/1 [==============================] - 0s 3ms/step - loss: 0.0101\n",
            "Epoch 27/200\n",
            "1/1 [==============================] - 0s 5ms/step - loss: 0.0081\n",
            "Epoch 28/200\n",
            "1/1 [==============================] - 0s 3ms/step - loss: 0.0067\n",
            "Epoch 29/200\n",
            "1/1 [==============================] - 0s 3ms/step - loss: 0.0059\n",
            "Epoch 30/200\n",
            "1/1 [==============================] - 0s 3ms/step - loss: 0.0053\n",
            "Epoch 31/200\n",
            "1/1 [==============================] - 0s 3ms/step - loss: 0.0046\n",
            "Epoch 32/200\n",
            "1/1 [==============================] - 0s 4ms/step - loss: 0.0037\n",
            "Epoch 33/200\n",
            "1/1 [==============================] - 0s 3ms/step - loss: 0.0028\n",
            "Epoch 34/200\n",
            "1/1 [==============================] - 0s 3ms/step - loss: 0.0021\n",
            "Epoch 35/200\n",
            "1/1 [==============================] - 0s 4ms/step - loss: 0.0018\n",
            "Epoch 36/200\n",
            "1/1 [==============================] - 0s 3ms/step - loss: 0.0017\n",
            "Epoch 37/200\n",
            "1/1 [==============================] - 0s 3ms/step - loss: 0.0015\n",
            "Epoch 38/200\n",
            "1/1 [==============================] - 0s 3ms/step - loss: 0.0011\n",
            "Epoch 39/200\n",
            "1/1 [==============================] - 0s 4ms/step - loss: 7.7334e-04\n",
            "Epoch 40/200\n",
            "1/1 [==============================] - 0s 3ms/step - loss: 5.0947e-04\n",
            "Epoch 41/200\n",
            "1/1 [==============================] - 0s 5ms/step - loss: 4.0770e-04\n",
            "Epoch 42/200\n",
            "1/1 [==============================] - 0s 3ms/step - loss: 4.0527e-04\n",
            "Epoch 43/200\n",
            "1/1 [==============================] - 0s 3ms/step - loss: 3.8821e-04\n",
            "Epoch 44/200\n",
            "1/1 [==============================] - 0s 3ms/step - loss: 2.9552e-04\n",
            "Epoch 45/200\n",
            "1/1 [==============================] - 0s 9ms/step - loss: 1.6035e-04\n",
            "Epoch 46/200\n",
            "1/1 [==============================] - 0s 3ms/step - loss: 6.0807e-05\n",
            "Epoch 47/200\n",
            "1/1 [==============================] - 0s 4ms/step - loss: 4.1011e-05\n",
            "Epoch 48/200\n",
            "1/1 [==============================] - 0s 3ms/step - loss: 7.6295e-05\n",
            "Epoch 49/200\n",
            "1/1 [==============================] - 0s 4ms/step - loss: 1.0563e-04\n",
            "Epoch 50/200\n",
            "1/1 [==============================] - 0s 4ms/step - loss: 9.0511e-05\n",
            "Epoch 51/200\n",
            "1/1 [==============================] - 0s 4ms/step - loss: 4.3811e-05\n",
            "Epoch 52/200\n",
            "1/1 [==============================] - 0s 4ms/step - loss: 8.0331e-06\n",
            "Epoch 53/200\n",
            "1/1 [==============================] - 0s 3ms/step - loss: 1.1147e-05\n",
            "Epoch 54/200\n",
            "1/1 [==============================] - 0s 3ms/step - loss: 4.3337e-05\n",
            "Epoch 55/200\n",
            "1/1 [==============================] - 0s 3ms/step - loss: 7.1911e-05\n",
            "Epoch 56/200\n",
            "1/1 [==============================] - 0s 3ms/step - loss: 7.4598e-05\n",
            "Epoch 57/200\n",
            "1/1 [==============================] - 0s 4ms/step - loss: 5.6943e-05\n",
            "Epoch 58/200\n",
            "1/1 [==============================] - 0s 3ms/step - loss: 4.2364e-05\n",
            "Epoch 59/200\n",
            "1/1 [==============================] - 0s 3ms/step - loss: 4.7185e-05\n",
            "Epoch 60/200\n",
            "1/1 [==============================] - 0s 3ms/step - loss: 6.6923e-05\n",
            "Epoch 61/200\n",
            "1/1 [==============================] - 0s 3ms/step - loss: 8.3945e-05\n",
            "Epoch 62/200\n",
            "1/1 [==============================] - 0s 3ms/step - loss: 8.5942e-05\n",
            "Epoch 63/200\n",
            "1/1 [==============================] - 0s 3ms/step - loss: 7.6164e-05\n",
            "Epoch 64/200\n",
            "1/1 [==============================] - 0s 3ms/step - loss: 6.7485e-05\n",
            "Epoch 65/200\n",
            "1/1 [==============================] - 0s 4ms/step - loss: 6.9021e-05\n",
            "Epoch 66/200\n",
            "1/1 [==============================] - 0s 3ms/step - loss: 7.8117e-05\n",
            "Epoch 67/200\n",
            "1/1 [==============================] - 0s 3ms/step - loss: 8.5156e-05\n",
            "Epoch 68/200\n",
            "1/1 [==============================] - 0s 3ms/step - loss: 8.3637e-05\n",
            "Epoch 69/200\n",
            "1/1 [==============================] - 0s 5ms/step - loss: 7.5782e-05\n",
            "Epoch 70/200\n",
            "1/1 [==============================] - 0s 3ms/step - loss: 6.8923e-05\n",
            "Epoch 71/200\n",
            "1/1 [==============================] - 0s 4ms/step - loss: 6.7779e-05\n",
            "Epoch 72/200\n",
            "1/1 [==============================] - 0s 3ms/step - loss: 7.0450e-05\n",
            "Epoch 73/200\n",
            "1/1 [==============================] - 0s 3ms/step - loss: 7.1535e-05\n",
            "Epoch 74/200\n",
            "1/1 [==============================] - 0s 3ms/step - loss: 6.7941e-05\n",
            "Epoch 75/200\n",
            "1/1 [==============================] - 0s 4ms/step - loss: 6.1279e-05\n",
            "Epoch 76/200\n",
            "1/1 [==============================] - 0s 4ms/step - loss: 5.5708e-05\n",
            "Epoch 77/200\n",
            "1/1 [==============================] - 0s 3ms/step - loss: 5.3457e-05\n",
            "Epoch 78/200\n",
            "1/1 [==============================] - 0s 4ms/step - loss: 5.3105e-05\n",
            "Epoch 79/200\n",
            "1/1 [==============================] - 0s 3ms/step - loss: 5.1666e-05\n",
            "Epoch 80/200\n",
            "1/1 [==============================] - 0s 4ms/step - loss: 4.7704e-05\n",
            "Epoch 81/200\n",
            "1/1 [==============================] - 0s 5ms/step - loss: 4.2544e-05\n",
            "Epoch 82/200\n",
            "1/1 [==============================] - 0s 6ms/step - loss: 3.8422e-05\n",
            "Epoch 83/200\n",
            "1/1 [==============================] - 0s 7ms/step - loss: 3.6247e-05\n",
            "Epoch 84/200\n",
            "1/1 [==============================] - 0s 4ms/step - loss: 3.4974e-05\n",
            "Epoch 85/200\n",
            "1/1 [==============================] - 0s 7ms/step - loss: 3.2919e-05\n",
            "Epoch 86/200\n",
            "1/1 [==============================] - 0s 6ms/step - loss: 2.9628e-05\n",
            "Epoch 87/200\n",
            "1/1 [==============================] - 0s 12ms/step - loss: 2.6038e-05\n",
            "Epoch 88/200\n",
            "1/1 [==============================] - 0s 5ms/step - loss: 2.3321e-05\n",
            "Epoch 89/200\n",
            "1/1 [==============================] - 0s 4ms/step - loss: 2.1736e-05\n",
            "Epoch 90/200\n",
            "1/1 [==============================] - 0s 4ms/step - loss: 2.0482e-05\n",
            "Epoch 91/200\n",
            "1/1 [==============================] - 0s 3ms/step - loss: 1.8736e-05\n",
            "Epoch 92/200\n",
            "1/1 [==============================] - 0s 4ms/step - loss: 1.6445e-05\n",
            "Epoch 93/200\n",
            "1/1 [==============================] - 0s 4ms/step - loss: 1.4224e-05\n",
            "Epoch 94/200\n",
            "1/1 [==============================] - 0s 4ms/step - loss: 1.2628e-05\n",
            "Epoch 95/200\n",
            "1/1 [==============================] - 0s 4ms/step - loss: 1.1630e-05\n",
            "Epoch 96/200\n",
            "1/1 [==============================] - 0s 4ms/step - loss: 1.0726e-05\n",
            "Epoch 97/200\n",
            "1/1 [==============================] - 0s 4ms/step - loss: 9.5198e-06\n",
            "Epoch 98/200\n",
            "1/1 [==============================] - 0s 4ms/step - loss: 8.1136e-06\n",
            "Epoch 99/200\n",
            "1/1 [==============================] - 0s 4ms/step - loss: 6.8819e-06\n",
            "Epoch 100/200\n",
            "1/1 [==============================] - 0s 4ms/step - loss: 6.0722e-06\n",
            "Epoch 101/200\n",
            "1/1 [==============================] - 0s 4ms/step - loss: 5.5327e-06\n",
            "Epoch 102/200\n",
            "1/1 [==============================] - 0s 5ms/step - loss: 4.9815e-06\n",
            "Epoch 103/200\n",
            "1/1 [==============================] - 0s 4ms/step - loss: 4.2560e-06\n",
            "Epoch 104/200\n",
            "1/1 [==============================] - 0s 4ms/step - loss: 3.4852e-06\n",
            "Epoch 105/200\n",
            "1/1 [==============================] - 0s 4ms/step - loss: 2.8967e-06\n",
            "Epoch 106/200\n",
            "1/1 [==============================] - 0s 4ms/step - loss: 2.5493e-06\n",
            "Epoch 107/200\n",
            "1/1 [==============================] - 0s 4ms/step - loss: 2.3054e-06\n",
            "Epoch 108/200\n",
            "1/1 [==============================] - 0s 5ms/step - loss: 2.0004e-06\n",
            "Epoch 109/200\n",
            "1/1 [==============================] - 0s 4ms/step - loss: 1.6194e-06\n",
            "Epoch 110/200\n",
            "1/1 [==============================] - 0s 4ms/step - loss: 1.2642e-06\n",
            "Epoch 111/200\n",
            "1/1 [==============================] - 0s 6ms/step - loss: 1.0298e-06\n",
            "Epoch 112/200\n",
            "1/1 [==============================] - 0s 6ms/step - loss: 9.1305e-07\n",
            "Epoch 113/200\n",
            "1/1 [==============================] - 0s 4ms/step - loss: 8.1603e-07\n",
            "Epoch 114/200\n",
            "1/1 [==============================] - 0s 5ms/step - loss: 6.6355e-07\n",
            "Epoch 115/200\n",
            "1/1 [==============================] - 0s 5ms/step - loss: 4.8231e-07\n",
            "Epoch 116/200\n",
            "1/1 [==============================] - 0s 9ms/step - loss: 3.4590e-07\n",
            "Epoch 117/200\n",
            "1/1 [==============================] - 0s 7ms/step - loss: 2.8636e-07\n",
            "Epoch 118/200\n",
            "1/1 [==============================] - 0s 5ms/step - loss: 2.6572e-07\n",
            "Epoch 119/200\n",
            "1/1 [==============================] - 0s 4ms/step - loss: 2.2729e-07\n",
            "Epoch 120/200\n",
            "1/1 [==============================] - 0s 7ms/step - loss: 1.6205e-07\n",
            "Epoch 121/200\n",
            "1/1 [==============================] - 0s 5ms/step - loss: 9.2437e-08\n",
            "Epoch 122/200\n",
            "1/1 [==============================] - 0s 4ms/step - loss: 5.7298e-08\n",
            "Epoch 123/200\n",
            "1/1 [==============================] - 0s 4ms/step - loss: 5.6450e-08\n",
            "Epoch 124/200\n",
            "1/1 [==============================] - 0s 4ms/step - loss: 6.0327e-08\n",
            "Epoch 125/200\n",
            "1/1 [==============================] - 0s 4ms/step - loss: 4.8443e-08\n",
            "Epoch 126/200\n",
            "1/1 [==============================] - 0s 4ms/step - loss: 2.0939e-08\n",
            "Epoch 127/200\n",
            "1/1 [==============================] - 0s 4ms/step - loss: 2.9813e-09\n",
            "Epoch 128/200\n",
            "1/1 [==============================] - 0s 3ms/step - loss: 4.8580e-09\n",
            "Epoch 129/200\n",
            "1/1 [==============================] - 0s 3ms/step - loss: 1.7332e-08\n",
            "Epoch 130/200\n",
            "1/1 [==============================] - 0s 4ms/step - loss: 2.2786e-08\n",
            "Epoch 131/200\n",
            "1/1 [==============================] - 0s 4ms/step - loss: 1.6739e-08\n",
            "Epoch 132/200\n",
            "1/1 [==============================] - 0s 4ms/step - loss: 7.9002e-09\n",
            "Epoch 133/200\n",
            "1/1 [==============================] - 0s 3ms/step - loss: 8.1080e-09\n",
            "Epoch 134/200\n",
            "1/1 [==============================] - 0s 12ms/step - loss: 1.6645e-08\n",
            "Epoch 135/200\n",
            "1/1 [==============================] - 0s 9ms/step - loss: 2.4751e-08\n",
            "Epoch 136/200\n",
            "1/1 [==============================] - 0s 11ms/step - loss: 2.6075e-08\n",
            "Epoch 137/200\n",
            "1/1 [==============================] - 0s 4ms/step - loss: 2.2542e-08\n",
            "Epoch 138/200\n",
            "1/1 [==============================] - 0s 4ms/step - loss: 2.0227e-08\n",
            "Epoch 139/200\n",
            "1/1 [==============================] - 0s 5ms/step - loss: 2.3727e-08\n",
            "Epoch 140/200\n",
            "1/1 [==============================] - 0s 4ms/step - loss: 2.8880e-08\n",
            "Epoch 141/200\n",
            "1/1 [==============================] - 0s 4ms/step - loss: 3.1506e-08\n",
            "Epoch 142/200\n",
            "1/1 [==============================] - 0s 4ms/step - loss: 2.9723e-08\n",
            "Epoch 143/200\n",
            "1/1 [==============================] - 0s 3ms/step - loss: 2.6962e-08\n",
            "Epoch 144/200\n",
            "1/1 [==============================] - 0s 4ms/step - loss: 2.7019e-08\n",
            "Epoch 145/200\n",
            "1/1 [==============================] - 0s 3ms/step - loss: 2.8794e-08\n",
            "Epoch 146/200\n",
            "1/1 [==============================] - 0s 4ms/step - loss: 3.0194e-08\n",
            "Epoch 147/200\n",
            "1/1 [==============================] - 0s 4ms/step - loss: 2.8561e-08\n",
            "Epoch 148/200\n",
            "1/1 [==============================] - 0s 4ms/step - loss: 2.6126e-08\n",
            "Epoch 149/200\n",
            "1/1 [==============================] - 0s 4ms/step - loss: 2.4312e-08\n",
            "Epoch 150/200\n",
            "1/1 [==============================] - 0s 4ms/step - loss: 2.3888e-08\n",
            "Epoch 151/200\n",
            "1/1 [==============================] - 0s 4ms/step - loss: 2.4391e-08\n",
            "Epoch 152/200\n",
            "1/1 [==============================] - 0s 4ms/step - loss: 2.3274e-08\n",
            "Epoch 153/200\n",
            "1/1 [==============================] - 0s 4ms/step - loss: 2.1135e-08\n",
            "Epoch 154/200\n",
            "1/1 [==============================] - 0s 6ms/step - loss: 1.9089e-08\n",
            "Epoch 155/200\n",
            "1/1 [==============================] - 0s 4ms/step - loss: 1.7870e-08\n",
            "Epoch 156/200\n",
            "1/1 [==============================] - 0s 5ms/step - loss: 1.7103e-08\n",
            "Epoch 157/200\n",
            "1/1 [==============================] - 0s 5ms/step - loss: 1.6148e-08\n",
            "Epoch 158/200\n",
            "1/1 [==============================] - 0s 6ms/step - loss: 1.4577e-08\n",
            "Epoch 159/200\n",
            "1/1 [==============================] - 0s 13ms/step - loss: 1.2480e-08\n",
            "Epoch 160/200\n",
            "1/1 [==============================] - 0s 9ms/step - loss: 1.1388e-08\n",
            "Epoch 161/200\n",
            "1/1 [==============================] - 0s 6ms/step - loss: 1.0712e-08\n",
            "Epoch 162/200\n",
            "1/1 [==============================] - 0s 5ms/step - loss: 9.6620e-09\n",
            "Epoch 163/200\n",
            "1/1 [==============================] - 0s 9ms/step - loss: 8.7084e-09\n",
            "Epoch 164/200\n",
            "1/1 [==============================] - 0s 5ms/step - loss: 7.2988e-09\n",
            "Epoch 165/200\n",
            "1/1 [==============================] - 0s 4ms/step - loss: 6.3928e-09\n",
            "Epoch 166/200\n",
            "1/1 [==============================] - 0s 4ms/step - loss: 5.5449e-09\n",
            "Epoch 167/200\n",
            "1/1 [==============================] - 0s 4ms/step - loss: 5.2353e-09\n",
            "Epoch 168/200\n",
            "1/1 [==============================] - 0s 5ms/step - loss: 4.6014e-09\n",
            "Epoch 169/200\n",
            "1/1 [==============================] - 0s 5ms/step - loss: 3.7521e-09\n",
            "Epoch 170/200\n",
            "1/1 [==============================] - 0s 4ms/step - loss: 3.3141e-09\n",
            "Epoch 171/200\n",
            "1/1 [==============================] - 0s 5ms/step - loss: 2.8968e-09\n",
            "Epoch 172/200\n",
            "1/1 [==============================] - 0s 3ms/step - loss: 2.5225e-09\n",
            "Epoch 173/200\n",
            "1/1 [==============================] - 0s 6ms/step - loss: 2.0971e-09\n",
            "Epoch 174/200\n",
            "1/1 [==============================] - 0s 4ms/step - loss: 1.7341e-09\n",
            "Epoch 175/200\n",
            "1/1 [==============================] - 0s 7ms/step - loss: 1.3952e-09\n",
            "Epoch 176/200\n",
            "1/1 [==============================] - 0s 4ms/step - loss: 1.1444e-09\n",
            "Epoch 177/200\n",
            "1/1 [==============================] - 0s 4ms/step - loss: 1.0158e-09\n",
            "Epoch 178/200\n",
            "1/1 [==============================] - 0s 4ms/step - loss: 8.3104e-10\n",
            "Epoch 179/200\n",
            "1/1 [==============================] - 0s 4ms/step - loss: 7.7622e-10\n",
            "Epoch 180/200\n",
            "1/1 [==============================] - 0s 4ms/step - loss: 5.9918e-10\n",
            "Epoch 181/200\n",
            "1/1 [==============================] - 0s 4ms/step - loss: 4.6069e-10\n",
            "Epoch 182/200\n",
            "1/1 [==============================] - 0s 4ms/step - loss: 2.9443e-10\n",
            "Epoch 183/200\n",
            "1/1 [==============================] - 0s 4ms/step - loss: 2.6145e-10\n",
            "Epoch 184/200\n",
            "1/1 [==============================] - 0s 5ms/step - loss: 1.6043e-10\n",
            "Epoch 185/200\n",
            "1/1 [==============================] - 0s 4ms/step - loss: 1.8287e-10\n",
            "Epoch 186/200\n",
            "1/1 [==============================] - 0s 6ms/step - loss: 1.5486e-10\n",
            "Epoch 187/200\n",
            "1/1 [==============================] - 0s 3ms/step - loss: 1.1836e-10\n",
            "Epoch 188/200\n",
            "1/1 [==============================] - 0s 3ms/step - loss: 6.2695e-11\n",
            "Epoch 189/200\n",
            "1/1 [==============================] - 0s 4ms/step - loss: 3.6986e-11\n",
            "Epoch 190/200\n",
            "1/1 [==============================] - 0s 4ms/step - loss: 6.5847e-11\n",
            "Epoch 191/200\n",
            "1/1 [==============================] - 0s 5ms/step - loss: 7.5791e-11\n",
            "Epoch 192/200\n",
            "1/1 [==============================] - 0s 4ms/step - loss: 8.0884e-11\n",
            "Epoch 193/200\n",
            "1/1 [==============================] - 0s 4ms/step - loss: 8.2461e-12\n",
            "Epoch 194/200\n",
            "1/1 [==============================] - 0s 4ms/step - loss: 3.8805e-12\n",
            "Epoch 195/200\n",
            "1/1 [==============================] - 0s 5ms/step - loss: 4.7658e-11\n",
            "Epoch 196/200\n",
            "1/1 [==============================] - 0s 4ms/step - loss: 4.7658e-11\n",
            "Epoch 197/200\n",
            "1/1 [==============================] - 0s 4ms/step - loss: 4.7658e-11\n",
            "Epoch 198/200\n",
            "1/1 [==============================] - 0s 5ms/step - loss: 4.7658e-11\n",
            "Epoch 199/200\n",
            "1/1 [==============================] - 0s 5ms/step - loss: 3.8805e-12\n",
            "Epoch 200/200\n",
            "1/1 [==============================] - 0s 11ms/step - loss: 8.2461e-12\n"
          ]
        }
      ]
    },
    {
      "cell_type": "code",
      "metadata": {
        "id": "1_rYfZIKoeCi",
        "colab": {
          "base_uri": "https://localhost:8080/",
          "height": 295
        },
        "outputId": "0fac6edf-6ae0-47fd-d660-c58216a12b89"
      },
      "source": [
        "#evaluando el nivel de error de aprendizaje\n",
        "plt.plot(epocas.history[\"loss\"])\n",
        "plt.title(\"Progreso del aprendizaje\")\n",
        "plt.xlabel(\"Epocas\")\n",
        "plt.ylabel(\"Error de aprendizaje\")\n",
        "plt.legend(\"Aprendizaje\")\n",
        "plt.show()"
      ],
      "execution_count": null,
      "outputs": [
        {
          "output_type": "display_data",
          "data": {
            "image/png": "[encoded data removed]",
            "text/plain": [
              "<Figure size 432x288 with 1 Axes>"
            ]
          },
          "metadata": {
            "needs_background": "light"
          }
        }
      ]
    },
    {
      "cell_type": "code",
      "metadata": {
        "id": "EA-2FHIwphYl",
        "colab": {
          "base_uri": "https://localhost:8080/"
        },
        "outputId": "8622465d-ae34-4d9e-bf36-a0e1441b0e4f"
      },
      "source": [
        "#haciendo predicciones con el aprendizaje automatico\n",
        "f=modelo.predict([27])\n",
        "print(f)"
      ],
      "execution_count": null,
      "outputs": [
        {
          "output_type": "stream",
          "name": "stdout",
          "text": [
            "[[80.600006]]\n"
          ]
        }
      ]
    },
    {
      "cell_type": "code",
      "metadata": {
        "id": "yRngNFO_ykvt"
      },
      "source": [
        "import tensorflow as tf\n",
        "import pandas as pd\n",
        "import matplotlib.pyplot as plt\n",
        "import seaborn as sns\n",
        "#obtencion de los datos de entrenamiento\n",
        "conversionBD = pd.read_csv(\"/content/bitcoin_dolar.csv\", sep=\";\")\n",
        "\n",
        "#datos de entrada y salida\n",
        "bitcoin = conversionBD[\"bitcoin\"]\n",
        "dolar = conversionBD['dolar']\n",
        "\n",
        "#modelo de entrenamiento\n",
        "modeloBD=tf.keras.Sequential()\n",
        "modeloBD.add(tf.keras.layers.Dense(units=1, input_shape=[1]))\n",
        "\n",
        "#compliar modelo\n",
        "modeloBD.compile(optimizer=tf.keras.optimizers.Adam(1),loss='mean_squared_error')\n",
        "\n",
        "#entrenamiento del modelo\n",
        "epocasBD = modeloBD.fit(bitcoin, dolar, epochs=600, verbose=0)\n",
        "\n"
      ],
      "execution_count": null,
      "outputs": []
    },
    {
      "cell_type": "code",
      "metadata": {
        "id": "PF9COKC426sU",
        "colab": {
          "base_uri": "https://localhost:8080/",
          "height": 294
        },
        "outputId": "ddd1d588-5a4f-4a89-9cf3-6f49fe71e11b"
      },
      "source": [
        "#evaluando el nivel de error de aprendizaje\n",
        "plt.plot(epocasBD.history[\"loss\"])\n",
        "plt.title(\"Progreso del aprendizaje\")\n",
        "plt.xlabel(\"Epocas\")\n",
        "plt.ylabel(\"Error de aprendizaje\")\n",
        "plt.legend(\"Aprendizaje\")\n",
        "plt.show()"
      ],
      "execution_count": null,
      "outputs": [
        {
          "output_type": "display_data",
          "data": {
            "image/png": "[encoded data removed]",
            "text/plain": [
              "<Figure size 432x288 with 1 Axes>"
            ]
          },
          "metadata": {
            "needs_background": "light"
          }
        }
      ]
    },
    {
      "cell_type": "code",
      "metadata": {
        "id": "RHzcjJ1R18yp",
        "colab": {
          "base_uri": "https://localhost:8080/"
        },
        "outputId": "cf7ee7ac-3649-4ee4-bba3-6c7fcba96509"
      },
      "source": [
        "#haciendo predicciones con el aprendizaje automatico\n",
        "dolar =modeloBD.predict([2])\n",
        "print(dolar)"
      ],
      "execution_count": null,
      "outputs": [
        {
          "output_type": "stream",
          "name": "stdout",
          "text": [
            "[[3230.2095]]\n"
          ]
        }
      ]
    },
    {
      "cell_type": "markdown",
      "metadata": {
        "id": "WxLSZ5KLgKaK"
      },
      "source": [
        "tensorflow convertir fahrenheit a Kelvin"
      ]
    },
    {
      "cell_type": "code",
      "metadata": {
        "id": "d0yYKwVhR8zI"
      },
      "source": [
        "#librerias\n",
        "import tensorflow as tf\n",
        "import pandas as pd\n",
        "import matplotlib.pyplot as plt\n"
      ],
      "execution_count": null,
      "outputs": []
    },
    {
      "cell_type": "code",
      "metadata": {
        "id": "nhOt0THugaAY"
      },
      "source": [
        "#leer los datos de entrenamiento\n",
        "temperaturasFK = pd.read_csv(\"/content/datos.csv\", sep=\";\")\n",
        "#print(temperaturasFK)\n"
      ],
      "execution_count": null,
      "outputs": []
    },
    {
      "cell_type": "code",
      "metadata": {
        "id": "2Y3YGxrGgvCc"
      },
      "source": [
        "#Separar los datos de entrada y salida\n",
        "fa= temperaturasFK[\"fahrenheit\"]\n",
        "k= temperaturasFK[\"kelvin\"]\n"
      ],
      "execution_count": null,
      "outputs": []
    },
    {
      "cell_type": "code",
      "metadata": {
        "id": "I-BDlHkahO8h"
      },
      "source": [
        "#creando el modelo\n",
        "modeloFK=tf.keras.Sequential()\n",
        "modeloFK.add(tf.keras.layers.Dense(units=1, input_shape=[1]))\n"
      ],
      "execution_count": null,
      "outputs": []
    },
    {
      "cell_type": "code",
      "metadata": {
        "id": "RpSieu1AhZT2"
      },
      "source": [
        "#compliar modelo\n",
        "modeloFK.compile(optimizer=tf.keras.optimizers.Adam(1),loss='mean_squared_error')"
      ],
      "execution_count": null,
      "outputs": []
    },
    {
      "cell_type": "code",
      "metadata": {
        "id": "ShcG3cKchf2-"
      },
      "source": [
        "#entrenar modelo\n",
        "historial= modeloFK.fit(fa,k,epochs=400, verbose=0)"
      ],
      "execution_count": null,
      "outputs": []
    },
    {
      "cell_type": "code",
      "metadata": {
        "id": "Pldxl70Jh9__",
        "colab": {
          "base_uri": "https://localhost:8080/"
        },
        "outputId": "952a0fc9-7ad4-463d-9d51-261cfbf4f5a6"
      },
      "source": [
        "kelvin =modeloFK.predict([-400.27])\n",
        "print(kelvin)"
      ],
      "execution_count": null,
      "outputs": [
        {
          "output_type": "stream",
          "name": "stdout",
          "text": [
            "[[33.00003]]\n"
          ]
        }
      ]
    },
    {
      "cell_type": "markdown",
      "metadata": {
        "id": "dv2jLQ1nZ8-L"
      },
      "source": [
        "ENTRENANDO UNA RED NEURONAL PARA QUE APRENDA A LEER NUMEROS DEL 0 AL 9"
      ]
    },
    {
      "cell_type": "code",
      "metadata": {
        "id": "9Noimgv7X_V3"
      },
      "source": [
        "#importar librerias\n",
        "import tensorflow as tf\n",
        "import matplotlib.pyplot as plt\n",
        "import numpy as np\n",
        "import math\n",
        "import tensorflow_datasets as tfds\n",
        "\n"
      ],
      "execution_count": 1,
      "outputs": []
    },
    {
      "cell_type": "code",
      "metadata": {
        "id": "03N89sJzbdg4",
        "colab": {
          "base_uri": "https://localhost:8080/",
          "height": 198,
          "referenced_widgets": [
            "5ffa822c2eaa4c49a6f9c331b7e02f37",
            "8281e3f423db4127b7a662cdde8e9862",
            "ca6614fe636a4837a9921c40035b3eaf",
            "3f0f53c2810b4952914f707fd64c51b6",
            "5be18efc0a964ee280391f6f0a0c4907",
            "6142fab35d06464bba557ac62a4c3c6d",
            "21659b491f344cb6bdc0f36fc0d192ca",
            "ed6099b5b5a742c7aab5a5260af15901",
            "dacda2b0685844eb8f3c0a817f25ec55",
            "c2135195232a41b69232d095f2e1016f",
            "015f864c13924b02b34f79dd51732336"
          ]
        },
        "outputId": "09392f70-726b-4cd6-e125-9054f1319dd5"
      },
      "source": [
        "#cargamos nuestro dataset e variables\n",
        "dataset,metadata=tfds.load('mnist', as_supervised=True, with_info=True)\n",
        "datos_entrenamiento, datos_prueba= dataset[\"train\"], dataset[\"test\"]\n",
        "print(datos_entrenamiento)"
      ],
      "execution_count": 2,
      "outputs": [
        {
          "output_type": "stream",
          "name": "stdout",
          "text": [
            "\u001b[1mDownloading and preparing dataset mnist/3.0.1 (download: 11.06 MiB, generated: 21.00 MiB, total: 32.06 MiB) to /root/tensorflow_datasets/mnist/3.0.1...\u001b[0m\n"
          ]
        },
        {
          "output_type": "stream",
          "name": "stderr",
          "text": [
            "WARNING:absl:Dataset mnist is hosted on GCS. It will automatically be downloaded to your\n",
            "local data directory. If you'd instead prefer to read directly from our public\n",
            "GCS bucket (recommended if you're running on GCP), you can instead pass\n",
            "`try_gcs=True` to `tfds.load` or set `data_dir=gs://tfds-data/datasets`.\n",
            "\n"
          ]
        },
        {
          "output_type": "display_data",
          "data": {
            "application/vnd.jupyter.widget-view+json": {
              "model_id": "5ffa822c2eaa4c49a6f9c331b7e02f37",
              "version_minor": 0,
              "version_major": 2
            },
            "text/plain": [
              "Dl Completed...:   0%|          | 0/4 [00:00<?, ? file/s]"
            ]
          },
          "metadata": {}
        },
        {
          "output_type": "stream",
          "name": "stdout",
          "text": [
            "\n",
            "\u001b[1mDataset mnist downloaded and prepared to /root/tensorflow_datasets/mnist/3.0.1. Subsequent calls will reuse this data.\u001b[0m\n",
            "<PrefetchDataset shapes: ((28, 28, 1), ()), types: (tf.uint8, tf.int64)>\n"
          ]
        }
      ]
    },
    {
      "cell_type": "code",
      "metadata": {
        "id": "OPb0V2O5eIcj"
      },
      "source": [
        "numeros_letras = [\"Cero\", \"Uno\", \"Dos\", \"Tres\", \"Cuatro\", \"Cinco\", \"Seis\", \"Siete\", \"Ocho\", \"Nueve\"]"
      ],
      "execution_count": 30,
      "outputs": []
    },
    {
      "cell_type": "code",
      "metadata": {
        "id": "ZFn0VZNJepIa",
        "colab": {
          "base_uri": "https://localhost:8080/"
        },
        "outputId": "79ea1396-1c52-4ebc-bf66-c1b777d9c33a"
      },
      "source": [
        "#pasar en variables,los datos de entrenamiento y prueba\n",
        "numeros_ejemplo_entrenamiento= metadata.splits[\"train\"].num_examples\n",
        "numeros_ejemplo_prueba= metadata.splits[\"test\"].num_examples\n",
        "print(numeros_ejemplo_entrenamiento, numeros_ejemplo_prueba)"
      ],
      "execution_count": 4,
      "outputs": [
        {
          "output_type": "stream",
          "name": "stdout",
          "text": [
            "60000 10000\n"
          ]
        }
      ]
    },
    {
      "cell_type": "code",
      "metadata": {
        "id": "Op4RWvOvfUn4"
      },
      "source": [
        "#funcion normalizadora de los pixdeles de 0-255 a 0-1\n",
        "def normalizacion(images, labels):\n",
        "  images = tf.cast(images, tf.float32)\n",
        "  images /= 255\n",
        "  return images, labels\n"
      ],
      "execution_count": 5,
      "outputs": []
    },
    {
      "cell_type": "code",
      "metadata": {
        "id": "WFW3s1ItgYj2"
      },
      "source": [
        "#llamamos la funcion normalizadora en ambos dataset\n",
        "datos_entrenamiento = datos_entrenamiento.map(normalizacion)\n",
        "datos_prueba = datos_prueba.map(normalizacion)\n"
      ],
      "execution_count": 6,
      "outputs": []
    },
    {
      "cell_type": "code",
      "metadata": {
        "id": "XCWFK_7whh8F"
      },
      "source": [
        "#estructuramos nuestra red neuronal\n",
        "modelo= tf.keras.Sequential([\n",
        "       tf.keras.layers.Flatten(input_shape=(28,28,1)),\n",
        "       tf.keras.layers.Dense(64, activation=tf.nn.relu),\n",
        "       tf.keras.layers.Dense(64, activation=tf.nn.relu),\n",
        "       tf.keras.layers.Dense(10, activation=tf.nn.softmax)\n",
        "])"
      ],
      "execution_count": 7,
      "outputs": []
    },
    {
      "cell_type": "code",
      "metadata": {
        "id": "lobyyXeJkDCo"
      },
      "source": [
        "#compilamos el modelo de red neuronal e indicamos las funciones a utilizar\n",
        "modelo.compile(\n",
        "    optimizer=\"adam\",\n",
        "    loss=\"sparse_categorical_crossentropy\",\n",
        "    metrics =['accuracy']\n",
        ")"
      ],
      "execution_count": 8,
      "outputs": []
    },
    {
      "cell_type": "code",
      "metadata": {
        "id": "BsOvX7s7kwfK"
      },
      "source": [
        "# entrenamiento por lotes\n",
        "batchsize = 32\n",
        "datos_entrenamiento = datos_entrenamiento.repeat().shuffle(numeros_ejemplo_entrenamiento).batch(batchsize)\n",
        "datos_prueba = datos_prueba.repeat().shuffle(numeros_ejemplo_prueba).batch(batchsize)"
      ],
      "execution_count": 9,
      "outputs": []
    },
    {
      "cell_type": "code",
      "metadata": {
        "id": "EWQNYVvklYou",
        "colab": {
          "base_uri": "https://localhost:8080/"
        },
        "outputId": "5d5d1c35-a254-44ad-af35-ba22809568c3"
      },
      "source": [
        "#entrenamiento nuestro modelo de datos\n",
        "modelo.fit(datos_entrenamiento, epochs=5, steps_per_epoch=math.ceil(numeros_ejemplo_entrenamiento/batchsize))"
      ],
      "execution_count": 10,
      "outputs": [
        {
          "output_type": "stream",
          "name": "stdout",
          "text": [
            "Epoch 1/5\n",
            "1875/1875 [==============================] - 13s 3ms/step - loss: 0.2700 - accuracy: 0.9207\n",
            "Epoch 2/5\n",
            "1875/1875 [==============================] - 6s 3ms/step - loss: 0.1244 - accuracy: 0.9621\n",
            "Epoch 3/5\n",
            "1875/1875 [==============================] - 6s 3ms/step - loss: 0.0894 - accuracy: 0.9726\n",
            "Epoch 4/5\n",
            "1875/1875 [==============================] - 6s 3ms/step - loss: 0.0678 - accuracy: 0.9791\n",
            "Epoch 5/5\n",
            "1875/1875 [==============================] - 6s 3ms/step - loss: 0.0593 - accuracy: 0.9812\n"
          ]
        },
        {
          "output_type": "execute_result",
          "data": {
            "text/plain": [
              "<keras.callbacks.History at 0x7f1116e07690>"
            ]
          },
          "metadata": {},
          "execution_count": 10
        }
      ]
    },
    {
      "cell_type": "code",
      "metadata": {
        "id": "-twBf7YfodDr",
        "colab": {
          "base_uri": "https://localhost:8080/"
        },
        "outputId": "75094e80-fbe7-4a12-8374-c5962b0223b0"
      },
      "source": [
        "#evaluar el modelo con los datos de prueba\n",
        "test_loss, test_accuracy = modelo.evaluate(datos_prueba, steps=math.ceil(numeros_ejemplo_prueba/batchsize))\n",
        "print(\"Resultado de las pruebas\", test_loss, test_accuracy)"
      ],
      "execution_count": 11,
      "outputs": [
        {
          "output_type": "stream",
          "name": "stdout",
          "text": [
            "313/313 [==============================] - 2s 3ms/step - loss: 0.0917 - accuracy: 0.9730\n",
            "Resultado de las pruebas 0.0916961133480072 0.9730431437492371\n"
          ]
        }
      ]
    },
    {
      "cell_type": "code",
      "metadata": {
        "id": "uKfyO8J5qJKd"
      },
      "source": [
        "# graficar la salida para evaluar los resultados\n",
        "def graficar_imagen(i, predictions_array, true_labels, images):\n",
        "  predictions_array, true_labels, img = predictions_array[i], true_labels[i], images[i]\n",
        "  plt.grid(False)\n",
        "  plt.xticks([])\n",
        "  plt.yticks([])\n",
        "  plt.imshow(img[...,0], cmap= plt.cm.binary)\n",
        "  \n",
        "  predicted_label = np.argmax(predictions_array)\n",
        "  if predicted_label == true_labels:\n",
        "    color = \"blue\"\n",
        "  else:\n",
        "    color = \"red\"\n",
        "  plt.xlabel(\"Prediccion: {}\". format(numeros_letras[predicted_label]), color = color)\n",
        "\n"
      ],
      "execution_count": 12,
      "outputs": []
    },
    {
      "cell_type": "code",
      "metadata": {
        "id": "RBf7OqobbJsI"
      },
      "source": [
        "#convertimos los tensores o imagenes en matrices numpy\n",
        "for imagen_prueba, etiqueta_prueba in datos_prueba.take(1):\n",
        "  imagen_prueba = imagen_prueba.numpy()\n",
        "  etiqueta_prueba = etiqueta_prueba.numpy()\n",
        "  predicciones = modelo.predict(imagen_prueba)"
      ],
      "execution_count": 13,
      "outputs": []
    },
    {
      "cell_type": "code",
      "metadata": {
        "id": "AGdW-Xv3hZ1Z",
        "outputId": "0c0f3adf-593b-46c0-a7da-ec08310e2729",
        "colab": {
          "base_uri": "https://localhost:8080/",
          "height": 295
        }
      },
      "source": [
        "index=0\n",
        "img= imagen_prueba[index]\n",
        "plt.grid(False)\n",
        "plt.imshow(img[...,0], cmap=plt.cm.binary)\n",
        "label = etiqueta_prueba[index]\n",
        "plt.xlabel(\"Prediccion: {}\". format(numeros_letras[label]), color = \"blue\")"
      ],
      "execution_count": 34,
      "outputs": [
        {
          "output_type": "execute_result",
          "data": {
            "text/plain": [
              "Text(0.5, 0, 'Prediccion: Nueve')"
            ]
          },
          "metadata": {},
          "execution_count": 34
        },
        {
          "output_type": "display_data",
          "data": {
            "image/png": "[encoded data removed]",
            "text/plain": [
              "<Figure size 432x288 with 1 Axes>"
            ]
          },
          "metadata": {
            "needs_background": "light"
          }
        }
      ]
    },
    {
      "cell_type": "code",
      "metadata": {
        "id": "fgpVA9JgbNme"
      },
      "source": [
        "#Graficamos los valores de las matriz una para las imagenes y otra para las graficas de barra segun el acierto\n",
        "def graficar_valores_matriz(i, matriz_prediccion, etiqueta_verdadera):\n",
        "  matriz_prediccion, etiqueta_verdadera = matriz_prediccion[i], etiqueta_verdadera[i]\n",
        "  plt.grid(False)\n",
        "  #plt.xticks([])\n",
        "  #plt.yticks([])\n",
        "  thisplot = plt.bar(range(10), matriz_prediccion, color=\"#888888\")\n",
        "  plt.ylim([0,1])\n",
        "  etiqueta_prediccion = np.argmax(matriz_prediccion)\n",
        "\n",
        "  thisplot[etiqueta_prediccion].set_color(\"red\")\n",
        "  thisplot[etiqueta_verdadera].set_color(\"green\")"
      ],
      "execution_count": 14,
      "outputs": []
    },
    {
      "cell_type": "code",
      "metadata": {
        "id": "LY9p0ZfvbO2H",
        "outputId": "66926e2c-34b9-4a84-814d-55acd8573eb4",
        "colab": {
          "base_uri": "https://localhost:8080/",
          "height": 595
        }
      },
      "source": [
        "#recorrer las imagenes a graficar\n",
        "numfilas = 5\n",
        "numcols = 5\n",
        "numimgs = numfilas*numcols\n",
        "\n",
        "plt.figure(figsize=(2*2*numcols, 2*numfilas))\n",
        "for i in range(numimgs):\n",
        "  plt.subplot(numfilas, 2*numcols, 2*i+1)\n",
        "  graficar_imagen(i, predicciones, etiqueta_prueba, imagen_prueba)\n",
        "\n",
        "  plt.subplot(numfilas, 2*numcols, 2*i+2)\n",
        "  graficar_valores_matriz(i, predicciones, etiqueta_prueba)\n",
        "\n",
        "plt.show()"
      ],
      "execution_count": 15,
      "outputs": [
        {
          "output_type": "display_data",
          "data": {
            "image/png": "[encoded data removed]",
            "text/plain": [
              "<Figure size 1440x720 with 50 Axes>"
            ]
          },
          "metadata": {
            "needs_background": "light"
          }
        }
      ]
    }
  ]
}