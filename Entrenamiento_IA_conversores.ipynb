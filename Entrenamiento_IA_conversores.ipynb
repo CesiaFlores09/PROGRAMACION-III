{
  "nbformat": 4,
  "nbformat_minor": 0,
  "metadata": {
    "colab": {
      "name": "Entrenamiento_IA_conversores",
      "provenance": [],
      "collapsed_sections": [],
      "include_colab_link": true
    },
    "kernelspec": {
      "name": "python3",
      "display_name": "Python 3"
    },
    "language_info": {
      "name": "python"
    }
  },
  "cells": [
    {
      "cell_type": "markdown",
      "metadata": {
        "id": "view-in-github",
        "colab_type": "text"
      },
      "source": [
        "<a href=\"https://colab.research.google.com/github/CesiaFlores09/PROGRAMACION-III/blob/master/Entrenamiento_IA_conversores.ipynb\" target=\"_parent\"><img src=\"https://colab.research.google.com/assets/colab-badge.svg\" alt=\"Open In Colab\"/></a>"
      ]
    },
    {
      "cell_type": "markdown",
      "metadata": {
        "id": "LOROe0sNgZay"
      },
      "source": [
        "CONVERSOR LONGITUD (metros a yardas)"
      ]
    },
    {
      "cell_type": "code",
      "metadata": {
        "id": "nZORV057yXEU"
      },
      "source": [
        "import tensorflow as tf\n",
        "import pandas as pd\n",
        "import matplotlib.pyplot as plt\n",
        "import seaborn as sns\n",
        "#obtencion de los datos de entrenamiento\n",
        "Longitud = pd.read_csv(\"/content/conversores.csv\", sep=\";\")\n"
      ],
      "execution_count": 195,
      "outputs": []
    },
    {
      "cell_type": "code",
      "metadata": {
        "id": "I5JZftQYMwrv"
      },
      "source": [
        "#datos de entrada y salida\n",
        "m =Longitud['metros']\n",
        "y = Longitud['yarda']\n"
      ],
      "execution_count": 196,
      "outputs": []
    },
    {
      "cell_type": "code",
      "metadata": {
        "id": "1cgZeU7CMyxc"
      },
      "source": [
        "#modelo de entrenamiento\n",
        "modelo_metros_y= tf.keras.Sequential()\n",
        "modelo_metros_y.add(tf.keras.layers.Dense(units=1, input_shape=[1]))\n",
        "\n"
      ],
      "execution_count": 197,
      "outputs": []
    },
    {
      "cell_type": "code",
      "metadata": {
        "id": "Cf9whqBvM1XN"
      },
      "source": [
        "#compliar modelo\n",
        "modelo_metros_y.compile(optimizer=tf.keras.optimizers.Adam(1),loss='mean_squared_error')\n",
        "\n"
      ],
      "execution_count": 198,
      "outputs": []
    },
    {
      "cell_type": "code",
      "metadata": {
        "id": "HMLfCLJP25js"
      },
      "source": [
        "hisotiral_metros_yardas = modelo_metros_y.fit(m,y, epochs=525, verbose=0)"
      ],
      "execution_count": 199,
      "outputs": []
    },
    {
      "cell_type": "code",
      "metadata": {
        "colab": {
          "base_uri": "https://localhost:8080/"
        },
        "id": "eiAroW0DN420",
        "outputId": "b1d79b9d-84cb-4d0b-f78a-293c0f5dd493"
      },
      "source": [
        "#convertir de metros a yardas\n",
        "yardas= modelo_metros_y.predict([70])\n",
        "print(yardas)"
      ],
      "execution_count": 205,
      "outputs": [
        {
          "output_type": "stream",
          "name": "stdout",
          "text": [
            "[[76.57999]]\n"
          ]
        }
      ]
    },
    {
      "cell_type": "markdown",
      "metadata": {
        "id": "GBD64s8RAvzu"
      },
      "source": [
        " CONVERSOR MASA (kilogramo a onza)"
      ]
    },
    {
      "cell_type": "code",
      "metadata": {
        "id": "7koE0kW8Aywn"
      },
      "source": [
        "import tensorflow as tf\n",
        "import pandas as pd\n",
        "import matplotlib.pyplot as plt\n",
        "#obtencion de los datos de entrenamiento\n",
        "Masa = pd.read_csv(\"/content/conversores.csv\", sep=\";\")\n",
        "\n"
      ],
      "execution_count": 261,
      "outputs": []
    },
    {
      "cell_type": "code",
      "metadata": {
        "id": "82WDN9dmA-b8"
      },
      "source": [
        "#datos de entrada y salida\n",
        "k= Masa[\"kilogramo\"]\n",
        "o= Masa[\"onza\"]"
      ],
      "execution_count": 262,
      "outputs": []
    },
    {
      "cell_type": "code",
      "metadata": {
        "id": "y_dxnwo5BDxS"
      },
      "source": [
        "#modelo de entrenamiento\n",
        "\n",
        "modelo_kilogramo_o=tf.keras.Sequential()\n",
        "modelo_kilogramo_o.add(tf.keras.layers.Dense(units=1, input_shape=[1]))"
      ],
      "execution_count": 263,
      "outputs": []
    },
    {
      "cell_type": "code",
      "metadata": {
        "id": "alp-vtfkBIQD"
      },
      "source": [
        "\n",
        "modelo_kilogramo_o.compile(optimizer=tf.keras.optimizers.Adam(1),loss='mean_squared_error')"
      ],
      "execution_count": 264,
      "outputs": []
    },
    {
      "cell_type": "code",
      "metadata": {
        "id": "vJmy0RsrBN8v"
      },
      "source": [
        "historial_kilogramo_o = modelo_kilogramo_o.fit(k,o,epochs=700, verbose=0)"
      ],
      "execution_count": 267,
      "outputs": []
    },
    {
      "cell_type": "code",
      "metadata": {
        "colab": {
          "base_uri": "https://localhost:8080/"
        },
        "id": "KS_iItuaBXiZ",
        "outputId": "d92ac019-4664-406b-ac7d-0792d095fd36"
      },
      "source": [
        "#conversor kilogramo a onza\n",
        "onza = modelo_kilogramo_o.predict([680])\n",
        "print(onza)\n"
      ],
      "execution_count": 272,
      "outputs": [
        {
          "output_type": "stream",
          "name": "stdout",
          "text": [
            "[[23986.129]]\n"
          ]
        }
      ]
    },
    {
      "cell_type": "markdown",
      "metadata": {
        "id": "PIpJHbiUA6eE"
      },
      "source": [
        "CONVERSOR ALMACENAMIENTO (kilobyte a byte)"
      ]
    },
    {
      "cell_type": "code",
      "metadata": {
        "id": "0Peszn20AsNB"
      },
      "source": [
        "import tensorflow as tf\n",
        "import pandas as pd\n",
        "import matplotlib.pyplot as plt\n",
        "import seaborn as sns\n",
        "#obtencion de los datos de entrenamiento\n",
        "Almacenamiento = pd.read_csv(\"/content/conversores.csv\", sep=\";\")\n"
      ],
      "execution_count": 482,
      "outputs": []
    },
    {
      "cell_type": "code",
      "metadata": {
        "id": "tCsB2YHkA95T"
      },
      "source": [
        "#datos de entrada y salida\n",
        "kb= Almacenamiento[\"kilobyte\"]\n",
        "b= Almacenamiento['Byte']\n",
        "\n"
      ],
      "execution_count": 555,
      "outputs": []
    },
    {
      "cell_type": "code",
      "metadata": {
        "id": "-VEBp5VtBBne"
      },
      "source": [
        "#modelo de entrenamiento\n",
        "modelo_kilobyte_b=tf.keras.Sequential()\n",
        "modelo_kilobyte_b.add(tf.keras.layers.Dense(units=1, input_shape=[1]))\n"
      ],
      "execution_count": 556,
      "outputs": []
    },
    {
      "cell_type": "code",
      "metadata": {
        "id": "fMZ4jfZ_BEFQ"
      },
      "source": [
        "modelo_kilobyte_b.compile(optimizer=tf.keras.optimizers.Adam(1),loss='mean_squared_error')\n",
        "\n"
      ],
      "execution_count": 571,
      "outputs": []
    },
    {
      "cell_type": "code",
      "metadata": {
        "id": "4fCZ4IONBHZq"
      },
      "source": [
        "historial_kilobyte_b = modelo_kilobyte_b.fit(kb,b,epochs=400, verbose=0)\n",
        "\n"
      ],
      "execution_count": 577,
      "outputs": []
    },
    {
      "cell_type": "code",
      "metadata": {
        "colab": {
          "base_uri": "https://localhost:8080/"
        },
        "id": "ATnphGAABKCr",
        "outputId": "c1e8fda2-8a0c-4b05-8eed-4da5f08bfb45"
      },
      "source": [
        "#convertir kilobyte a byte\n",
        "byte = modelo_kilobyte_b.predict([15])\n",
        "print(byte)"
      ],
      "execution_count": 578,
      "outputs": [
        {
          "output_type": "stream",
          "name": "stdout",
          "text": [
            "[[15001.995]]\n"
          ]
        }
      ]
    },
    {
      "cell_type": "markdown",
      "metadata": {
        "id": "aDInN6Pb3rD1"
      },
      "source": [
        "CONVERSOR TIEMPO (horas a minutos)"
      ]
    },
    {
      "cell_type": "code",
      "metadata": {
        "id": "Owr5VAhh3qW-"
      },
      "source": [
        "import tensorflow as tf\n",
        "import pandas as pd\n",
        "import matplotlib.pyplot as plt\n",
        "import seaborn as sns\n",
        "#obtencion de los datos de entrenamiento\n",
        "Tiempo = pd.read_csv(\"/content/conversores.csv\", sep=\";\")\n",
        "\n"
      ],
      "execution_count": 579,
      "outputs": []
    },
    {
      "cell_type": "code",
      "metadata": {
        "id": "qP2-tUnG33zF"
      },
      "source": [
        "#datos de entrada y salida\n",
        "h = Tiempo['horas']\n",
        "mnts = Tiempo['minutos']\n"
      ],
      "execution_count": 580,
      "outputs": []
    },
    {
      "cell_type": "code",
      "metadata": {
        "id": "oKfnWZZU35_K"
      },
      "source": [
        "#modelo de entrenamiento\n",
        "modelo_h_mnts= tf.keras.Sequential()\n",
        "modelo_h_mnts.add(tf.keras.layers.Dense(units=1, input_shape=[1]))\n"
      ],
      "execution_count": 581,
      "outputs": []
    },
    {
      "cell_type": "code",
      "metadata": {
        "id": "LQUP9oVH3-fd"
      },
      "source": [
        "#compliar modelo\n",
        "modelo_h_mnts.compile(optimizer=tf.keras.optimizers.Adam(1),loss='mean_squared_error')\n",
        "\n"
      ],
      "execution_count": 582,
      "outputs": []
    },
    {
      "cell_type": "code",
      "metadata": {
        "id": "aArYwhFC4Bi3"
      },
      "source": [
        "#entrenar el modelo de IA\n",
        "hisotiral_h_mnts= modelo_h_mnts.fit(h,mnts,epochs=700 ,verbose=0)"
      ],
      "execution_count": 592,
      "outputs": []
    },
    {
      "cell_type": "code",
      "metadata": {
        "colab": {
          "base_uri": "https://localhost:8080/"
        },
        "id": "gTYVeS754GKH",
        "outputId": "b961a78d-0806-4312-a9e4-fd5ec740f464"
      },
      "source": [
        "#conversor horas a minutos\n",
        "minutos = modelo_h_mnts.predict([2000])\n",
        "print(minutos)"
      ],
      "execution_count": 600,
      "outputs": [
        {
          "output_type": "stream",
          "name": "stdout",
          "text": [
            "[[119995.6]]\n"
          ]
        }
      ]
    },
    {
      "cell_type": "markdown",
      "metadata": {
        "id": "wOOQdu9LZn_s"
      },
      "source": [
        "CONVERSOR AREA (kilometro cuadrado a metro cuadrado)"
      ]
    },
    {
      "cell_type": "code",
      "metadata": {
        "id": "wdZZMVI2ZnJP"
      },
      "source": [
        "import tensorflow as tf\n",
        "import pandas as pd\n",
        "import matplotlib.pyplot as plt\n",
        "import seaborn as sns\n",
        "#obtencion de los datos de entrenamiento\n",
        "Area = pd.read_csv(\"/content/conversores.csv\", sep=\";\")\n"
      ],
      "execution_count": 602,
      "outputs": []
    },
    {
      "cell_type": "code",
      "metadata": {
        "id": "x75mAYWZZ_wD"
      },
      "source": [
        "#datos de entrada y salida\n",
        "mc = Area['metro_c']\n",
        "pc = Area['pie_cu']\n"
      ],
      "execution_count": 603,
      "outputs": []
    },
    {
      "cell_type": "code",
      "metadata": {
        "id": "Shy4tXKmbkY7"
      },
      "source": [
        "#modelo de entrenamiento\n",
        "modelo_mc_pc= tf.keras.Sequential()\n",
        "modelo_mc_pc.add(tf.keras.layers.Dense(units=1, input_shape=[1]))"
      ],
      "execution_count": 604,
      "outputs": []
    },
    {
      "cell_type": "code",
      "metadata": {
        "id": "gRs1PebEbuGL"
      },
      "source": [
        "#compliar modelo\n",
        "modelo_mc_pc.compile(optimizer=tf.keras.optimizers.Adam(1),loss='mean_squared_error')"
      ],
      "execution_count": 605,
      "outputs": []
    },
    {
      "cell_type": "code",
      "metadata": {
        "id": "RySKVLbzb1Ow"
      },
      "source": [
        "#entrenar el modelo de IA\n",
        "hisotiral_mc_pc= modelo_mc_pc.fit(mc,pc,epochs=560 ,verbose=0)"
      ],
      "execution_count": 606,
      "outputs": []
    },
    {
      "cell_type": "code",
      "metadata": {
        "colab": {
          "base_uri": "https://localhost:8080/"
        },
        "id": "GBTN-mDKb8hA",
        "outputId": "380643ad-6ce5-4370-e6d4-dceddee8b4ad"
      },
      "source": [
        "#conversor metro cuadrado a pie cuadrado \n",
        "pie_cuadrado = modelo_mc_pc.predict([80])\n",
        "print(pie_cuadrado)"
      ],
      "execution_count": 607,
      "outputs": [
        {
          "output_type": "stream",
          "name": "stdout",
          "text": [
            "[[861.2065]]\n"
          ]
        }
      ]
    },
    {
      "cell_type": "markdown",
      "metadata": {
        "id": "JhNEOvsq4NB4"
      },
      "source": [
        "MESES ACUMULADOS"
      ]
    },
    {
      "cell_type": "code",
      "metadata": {
        "id": "mFRo3QkM4TpD"
      },
      "source": [
        "#librerias\n",
        "import tensorflow as tf\n",
        "import pandas as pd\n",
        "import matplotlib.pyplot as plt\n",
        "import seaborn as sns\n",
        "#leer los datos de entrenamiento\n",
        "Acumulacion_meses = pd.read_csv(\"/content/conversores.csv\", sep=\";\")\n"
      ],
      "execution_count": 175,
      "outputs": []
    },
    {
      "cell_type": "code",
      "metadata": {
        "id": "BIcGV8QF4eES"
      },
      "source": [
        "#Separar los datos de entrada y salida\n",
        "m = Acumulacion_meses['meses']\n",
        "a = Acumulacion_meses['acumulacion']"
      ],
      "execution_count": 190,
      "outputs": []
    },
    {
      "cell_type": "code",
      "metadata": {
        "id": "N00Ixwb44gyx"
      },
      "source": [
        "#creando el modelo\n",
        "modeloM = tf.keras.Sequential()\n",
        "modeloM.add(tf.keras.layers.Dense(units=1, input_shape=[1]))"
      ],
      "execution_count": 191,
      "outputs": []
    },
    {
      "cell_type": "code",
      "metadata": {
        "id": "uYHMJRe14jiI"
      },
      "source": [
        "#compliar el modelo\n",
        "modeloM.compile(optimizer=tf.keras.optimizers.Adam(1),loss='mean_squared_error')"
      ],
      "execution_count": 192,
      "outputs": []
    },
    {
      "cell_type": "code",
      "metadata": {
        "id": "4aAGL2VW4mEQ"
      },
      "source": [
        "#entrenar el modelo\n",
        "historial= modeloM.fit(m, a, epochs=3, verbose=0)"
      ],
      "execution_count": 193,
      "outputs": []
    },
    {
      "cell_type": "code",
      "metadata": {
        "colab": {
          "base_uri": "https://localhost:8080/"
        },
        "id": "fNtvoscm4oTW",
        "outputId": "8f8ecb78-2925-4c5e-bd82-3fbd1bd307a6"
      },
      "source": [
        "acumulacion = modeloM.predict([10])\n",
        "print(acumulacion)"
      ],
      "execution_count": 194,
      "outputs": [
        {
          "output_type": "stream",
          "name": "stdout",
          "text": [
            "[[61.019848]]\n"
          ]
        }
      ]
    }
  ]
}